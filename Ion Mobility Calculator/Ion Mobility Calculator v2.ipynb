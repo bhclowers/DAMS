{
 "cells": [
  {
   "cell_type": "markdown",
   "metadata": {},
   "source": [
    "**Remember `shift + enter` to run a cell**"
   ]
  },
  {
   "cell_type": "markdown",
   "metadata": {},
   "source": [
    "Versions of this file will be updated at [www.github.com/bhclowers](https://github.com/bhclowers/scriptorium/tree/master/Ion%20Mobility%20Calculator)"
   ]
  },
  {
   "cell_type": "markdown",
   "metadata": {},
   "source": [
    "# *<center> Ion Mobility Calculator </center>*"
   ]
  },
  {
   "cell_type": "markdown",
   "metadata": {},
   "source": [
    "### The following set of code outlines the general principles to calculate the gas phase mobility from drift tube IMS experiments.  Specific functions include:\n",
    "* Drift time to (non-field corrected) ion-neutral cross section conversion.\n",
    "* CCS to Drift Time Conversion\n",
    "* Ion mobility simulator accepting key experimental parameters to predict drift time with contributions from diffusion\n",
    "* Corrections to the fundamental ion mobility equation for electric field strength. "
   ]
  },
  {
   "cell_type": "markdown",
   "metadata": {},
   "source": [
    "### Conventions used in this document: \n",
    "* lowercase variables are associated with the ion\n",
    "* uppercase variables are associated with the neutral"
   ]
  },
  {
   "cell_type": "markdown",
   "metadata": {},
   "source": [
    "Perhaps the most important aspect to this notebook is the field-strength correction approach. As outlined by Siems, Viehland, and Hill, the intial derivation of the equation often used to calculate the ion-neutral cross section of an ion assumes *zero-field* strength. However, we know this to not be the case simply by the nature of the ion mobility experiment (i.e. we require an electric field to measure the mobility experiment).  Interestingly, the Langevin (aka as the Mason-Shamp Equation) can also be derived from the Nernst-Einstein relationship and Fick's Law of diffusion--neither of which require and electric field. "
   ]
  },
  {
   "cell_type": "markdown",
   "metadata": {},
   "source": [
    "In the papers referenced below, Bill, Larry, and Herb (BLH) illustrate that when the influence of the electric field is considered the forces governing the momentum transfer between an ion and neutral change.  It is well known that at extremem electric fields (i.e. E/N values), the gas-phase coefficient of mobility is not constant.  Moreover, it has been assumed that drift tube experiments conducted at reduced pressure (e.g. 4 torr) operate under the \"low-field limit\" as described by Revercomb and Mason (Analytical Chemistry, 1975).  It should be noted, that this E/N value reported by Revercomb and Mason is not necessarily incorrect but makes key assumptions that do not always hold for large polyatomic systems.  In the papers by BLH the concept of electric field strength and its impact on observed mobility is cast in terms of drift velocity of the ion and the thermal velocity of the gas.  A key assumption of the mobility experiment is that the applied electric field should minimally impact the energy of the ion with the ion system being largely thermalized by the gas.  Stated differently, if the electric field is too high then the ion energy is distorted relative to the gas temperature. Under stuch conditions the ion mobility theory breaksdown--in more ways than one.  To be clear, the boundary between the low and high electric field limit not discrete. Rather, it is different for each ion and the choice of experimental parameters is up to the experimentalist.    \n",
    "\n",
    "Careful reading of the BLH papers highlights that failure to account for field effects can lead to errors of up to 4 percent in common low pressure IMS cells.  Such errors may not impact precision and may falsely impart a sense of accuracy.  Moreover, in the common drift cell IMS experiment different electric fields are often used in the construction of common P/V plots.  However, these plots assume that there is no real change in CCS with field.  As evidenced by experiments conducted in our own lab, these plots are still quite linear, it is just that in the input values need to correct for the relative contributions from the field.  \n",
    "\n",
    "Finally, a key difference between the core Mason-Schamp/Langevin treatment of ion mobility and that presented by BLH is that the latter provides a direct mechnism correct the mobility equation so that the key assumptions that give rise the to 3/16 and the 3/4 fractions are not just approximations but linked directly to the experimental parameters.  At the risk of being redundant...To be clear, if the goal of the IMS community is to strive for accuracy and reproducibility then corrections to the reported mobility values should be reported.  As the schemes below illustrate, it is not a complicated process and requires but a few simple, extra steps."
   ]
  },
  {
   "cell_type": "markdown",
   "metadata": {
    "collapsed": false
   },
   "source": [
    "## Eqn #1:     $$\\Omega=\\bigg(\\dfrac{3}{16}\\bigg)\\bigg(\\dfrac{2\\pi}{\\mu\\mathrm{k_{b}}\\mathrm{T}}\\bigg)^{\\frac{1}{2}}\\bigg(\\dfrac{ze}{KN}\\bigg)=\\dfrac{3}{4}\\bigg(\\dfrac{zeE}{\\mu\\mathrm{v_d}\\mathrm{v_T}N}\\bigg)$$"
   ]
  },
  {
   "cell_type": "markdown",
   "metadata": {},
   "source": [
    "#### Relevant References\n",
    "\n",
    "* Improved Momentum-Transfer Theory for Ion Mobility. 1. Derivation of the Fundamental Equation\n",
    "    * William F. Siems, Larry A. Viehland, and Herbert H. Hill, Jr.\n",
    "        * dx.doi.org/10.1021/ac301779s\n",
    "        \n",
    "* Correcting the fundamental ion mobility equationfor field effects\n",
    "    * William F. Siems, Larry A. Viehland and Herbert H. Hill, Jr\n",
    "        * DOI: 10.1039/c6an01353h\n",
    "\n",
    "    "
   ]
  },
  {
   "cell_type": "markdown",
   "metadata": {},
   "source": [
    "#### The image below, taken directly from BLH, illustrates the types of collisions between the ion and the neutral.  Some may be heating and others may be cooling.  It is this ratio that needs to be calculated below to correct for the impact of the electric field. "
   ]
  },
  {
   "cell_type": "markdown",
   "metadata": {},
   "source": [
    "![Heating and Cooling Conditions](Heating and Cooling Collisions.PNG)"
   ]
  },
  {
   "cell_type": "markdown",
   "metadata": {},
   "source": [
    "### Standard Python Imports"
   ]
  },
  {
   "cell_type": "code",
   "execution_count": 1,
   "metadata": {
    "collapsed": false
   },
   "outputs": [],
   "source": [
    "import matplotlib.pyplot as plt\n",
    "import numpy as np\n",
    "import seaborn as sns\n",
    "sns.set_style('whitegrid')\n",
    "%matplotlib inline\n",
    "# %matplotlib notebook"
   ]
  },
  {
   "cell_type": "code",
   "execution_count": 2,
   "metadata": {
    "collapsed": false
   },
   "outputs": [],
   "source": [
    "from scipy import constants"
   ]
  },
  {
   "cell_type": "code",
   "execution_count": 3,
   "metadata": {
    "collapsed": false
   },
   "outputs": [],
   "source": [
    "from scipy import interpolate"
   ]
  },
  {
   "cell_type": "markdown",
   "metadata": {},
   "source": [
    "### Parameters of the Drift Cell and Experiment\n",
    "* Change to suit your system"
   ]
  },
  {
   "cell_type": "code",
   "execution_count": 5,
   "metadata": {
    "collapsed": false
   },
   "outputs": [],
   "source": [
    "DL = 10  #in cm\n",
    "DV = 4500  #in volts\n",
    "\n",
    "P = 690  #torr\n",
    "GM = 28  #gas mass in amu\n",
    "\n",
    "PW = 150  #in microseconds\n",
    "# PULSE_WIDTH /=1E6 #Convert to seconds\n",
    "STARTTIME = 0  #ms\n",
    "SCAN_TIME = 72  #ms"
   ]
  },
  {
   "cell_type": "markdown",
   "metadata": {},
   "source": [
    "### Experimental Mobility Equations"
   ]
  },
  {
   "cell_type": "markdown",
   "metadata": {
    "collapsed": false
   },
   "source": [
    "## Eqn #2:     $$\\mathrm{K}=\\dfrac{v_{d}}{\\mathrm{E}}=\\dfrac{\\mathrm{L}^2}{t_d\\cdot \\mathrm{V}}$$   "
   ]
  },
  {
   "cell_type": "markdown",
   "metadata": {
    "collapsed": false
   },
   "source": [
    "## Eqn #3:     $$\\mathrm{K}_0=\\mathrm{K}\\cdot \\dfrac{273.15}{\\mathrm{T}}\\cdot \\dfrac{\\mathrm{P}}{760}$$"
   ]
  },
  {
   "cell_type": "code",
   "execution_count": 6,
   "metadata": {
    "collapsed": false
   },
   "outputs": [],
   "source": [
    "def mobilityFromDriftTime(driftTime, length, voltage):\n",
    "    '''\n",
    "    See Equation #2\n",
    "    '''\n",
    "    mobility = length**2 / (driftTime * voltage)\n",
    "    return mobility"
   ]
  },
  {
   "cell_type": "code",
   "execution_count": 7,
   "metadata": {
    "collapsed": false
   },
   "outputs": [],
   "source": [
    "def getReducedMobility(mobility, pressure, temp):\n",
    "    '''\n",
    "    Temp should be in Kelvin\n",
    "    Pressure in Pressure\n",
    "    Mobility in cm**2 V**-1 s**-1\n",
    "    '''\n",
    "    #     print mobility\n",
    "    #     print 273.15/temp\n",
    "    #     print pressure/760\n",
    "    kRed = mobility * ((273.15) / temp) * (pressure / (760.0))\n",
    "    return kRed"
   ]
  },
  {
   "cell_type": "code",
   "execution_count": 8,
   "metadata": {
    "collapsed": false
   },
   "outputs": [
    {
     "data": {
      "text/plain": [
       "0.906289650172195"
      ]
     },
     "execution_count": 8,
     "metadata": {},
     "output_type": "execute_result"
    }
   ],
   "source": [
    "dt = 24.52\n",
    "dt /= 1000.0  #in seconds\n",
    "mob = mobilityFromDriftTime(dt, DL, DV)\n",
    "mob  #in cm^2/Vs"
   ]
  },
  {
   "cell_type": "code",
   "execution_count": 68,
   "metadata": {
    "collapsed": false
   },
   "outputs": [
    {
     "name": "stdout",
     "output_type": "stream",
     "text": [
      "0.531140451568528\n"
     ]
    }
   ],
   "source": [
    "T = 150\n",
    "T += 273.15\n",
    "P = 690\n",
    "kRed = getReducedMobility(mob, P, T)\n",
    "print(kRed)"
   ]
  },
  {
   "cell_type": "code",
   "execution_count": 11,
   "metadata": {
    "collapsed": false
   },
   "outputs": [],
   "source": [
    "def driftTimeFromReducedMobility(reducedMobility, pressure, temp, length,\n",
    "                                 voltage):\n",
    "    '''\n",
    "    Mobility values are in cm^2/Vs\n",
    "    Length is in cm\n",
    "    returns drift time in seconds\n",
    "    \n",
    "    '''\n",
    "    tempTerm = 273.15 / (temp)  #don't forget to convert to K before submission\n",
    "    pressureTerm = pressure / (760.0)\n",
    "    mobilityTerm = length**2 / (voltage * reducedMobility)\n",
    "    driftTime = tempTerm * pressureTerm * mobilityTerm  #\n",
    "    return driftTime"
   ]
  },
  {
   "cell_type": "code",
   "execution_count": 12,
   "metadata": {
    "collapsed": false
   },
   "outputs": [
    {
     "data": {
      "text/plain": [
       "0.02452"
      ]
     },
     "execution_count": 12,
     "metadata": {},
     "output_type": "execute_result"
    }
   ],
   "source": [
    "driftTimeFromReducedMobility(kRed, P, T, DL, DV)"
   ]
  },
  {
   "cell_type": "markdown",
   "metadata": {
    "collapsed": false
   },
   "source": [
    "## Eqn #1:     $$\\Omega=\\bigg(\\dfrac{3}{16}\\bigg)\\bigg(\\dfrac{2\\pi}{\\mu\\mathrm{k_{b}}\\mathrm{T}}\\bigg)^{\\frac{1}{2}}\\bigg(\\dfrac{ze}{KN}\\bigg)=\\dfrac{3}{4}\\bigg(\\dfrac{zeE}{\\mu\\mathrm{v_d}\\mathrm{v_T}N}\\bigg)$$"
   ]
  },
  {
   "cell_type": "markdown",
   "metadata": {},
   "source": [
    "## Eqn #4:    "
   ]
  },
  {
   "cell_type": "markdown",
   "metadata": {},
   "source": [
    "## Thermal Velocity: $$\\mathrm{v_T}=\\bigg(\\dfrac{8kT}{\\pi\\mu}\\bigg)^{\\frac{1}{2}}$$"
   ]
  },
  {
   "cell_type": "code",
   "execution_count": 13,
   "metadata": {
    "collapsed": true
   },
   "outputs": [],
   "source": [
    "def calcThermalVelocity(temp, mu):\n",
    "    '''\n",
    "    temp is in K\n",
    "    mu = reduced mass\n",
    "    return value is meter/sec\n",
    "    '''\n",
    "    kb = 1.38065E-16  #erg/K\n",
    "    amu = 1.660539E-24  #gm\n",
    "    vt = (8 * kb * temp / (np.pi * mu * amu))\n",
    "    vt = np.sqrt(vt) / 100\n",
    "    return vt"
   ]
  },
  {
   "cell_type": "code",
   "execution_count": 14,
   "metadata": {
    "collapsed": false
   },
   "outputs": [],
   "source": [
    "def calcNumberDensity(press, temp,\n",
    "                      No=2.68677E25):  # change to 2.68677E19 if you want cm^-3\n",
    "    '''\n",
    "    Calculate molecular number density\n",
    "    Pressure is in torr\n",
    "    Temp is in Kelvin\n",
    "    return value is in units of m^-3\n",
    "    '''\n",
    "    return No * (273.15 / temp) * (press / 760.0)"
   ]
  },
  {
   "cell_type": "code",
   "execution_count": 15,
   "metadata": {
    "collapsed": false
   },
   "outputs": [
    {
     "data": {
      "text/plain": [
       "580.49678735821738"
      ]
     },
     "execution_count": 15,
     "metadata": {},
     "output_type": "execute_result"
    }
   ],
   "source": [
    "calcThermalVelocity(423.15, 26.587)"
   ]
  },
  {
   "cell_type": "code",
   "execution_count": 92,
   "metadata": {
    "collapsed": false
   },
   "outputs": [],
   "source": [
    "def ccsFromDriftTime(voltage,\n",
    "                     length,\n",
    "                     pressure,\n",
    "                     temp,\n",
    "                     driftTime,\n",
    "                     charge,\n",
    "                     ionMass,\n",
    "                     gasMass,\n",
    "                     debug=False):\n",
    "    '''\n",
    "    ccs is in square angstroms\n",
    "    pressure is in torr\n",
    "    length is in cm\n",
    "    Temp is in Kelvin\n",
    "    ionMass and gasMass are in amu\n",
    "    ccs in in squared length units\n",
    "    '''\n",
    "    kb = constants.k\n",
    "    LC = 2.6867774e25  #Loschmidt Constant in m^-3\n",
    "    massConv = 1.660539E-24  #gm/amu\n",
    "    length /= 100.0  #in m\n",
    "    numberDensity = calcNumberDensity(pressure, temp)\n",
    "\n",
    "    #<vT>=(8kT/πμ)1/2 (m s-1)\n",
    "    reducedMass = ((ionMass * gasMass) / (ionMass + gasMass))\n",
    "    thermalVelocity = calcThermalVelocity(temp, reducedMass)  #m/s\n",
    "    vd = length / driftTime\n",
    "    if debug:\n",
    "        print(\"Drift Velocity in m/s:\", vd)\n",
    "    eField = voltage / (length)  #V/m\n",
    "    numerator = 0.75 * charge * constants.e * eField / numberDensity / 1.0E-17  #Townsend factor\n",
    "    denominator = reducedMass * massConv * thermalVelocity * vd\n",
    "    ccs = numerator / denominator * 1E6  #scaling factor for units\n",
    "    if debug:\n",
    "        print(\"E-Field: \", eField / 100, 'V/cm')\n",
    "        print(\"Drift Velocity\", vd, \"m/s\")\n",
    "        print(\"Thermal Velocity: \", thermalVelocity)\n",
    "        print(\"Number Density: \", numberDensity)\n",
    "        print(\"Numerator: \", numerator)\n",
    "        print(\"Denominator: \", denominator)\n",
    "\n",
    "    return ccs  # in square angstroms"
   ]
  },
  {
   "cell_type": "code",
   "execution_count": 93,
   "metadata": {
    "collapsed": false
   },
   "outputs": [
    {
     "name": "stdout",
     "output_type": "stream",
     "text": [
      "Drift Velocity in m/s: 4.078303425774878\n",
      "E-Field:  450.0 V/cm\n",
      "Drift Velocity 4.078303425774878 m/s\n",
      "Thermal Velocity:  580.492558324\n",
      "Number Density:  1.574609431752458e+25\n",
      "Numerator:  3.434087200393501e-23\n",
      "Denominator:  1.04520368993e-19\n"
     ]
    },
    {
     "data": {
      "text/plain": [
       "328.55674291006613"
      ]
     },
     "execution_count": 93,
     "metadata": {},
     "output_type": "execute_result"
    }
   ],
   "source": [
    "ccsFromDriftTime(DV, DL, P, T, dt, 1, 527.0, 28.0, debug=True)"
   ]
  },
  {
   "cell_type": "code",
   "execution_count": 18,
   "metadata": {
    "collapsed": false
   },
   "outputs": [],
   "source": [
    "def driftFromCCS(voltage,\n",
    "                 length,\n",
    "                 pressure,\n",
    "                 temp,\n",
    "                 ccs,\n",
    "                 charge,\n",
    "                 ionMass,\n",
    "                 gasMass,\n",
    "                 debug=False):\n",
    "    '''\n",
    "    length is usually in centimeters but can be in any pq length unit\n",
    "    pressure is in torr\n",
    "    Temp is in pq.celsius\n",
    "    ionMass and gasMass are in pq.atomic_mass_unit\n",
    "    ccs in in squared length units\n",
    "    '''\n",
    "\n",
    "    kb = constants.k\n",
    "    LC = 2.6867774e25  #Loschmidt Constant in m^-3\n",
    "    massConv = 1.660539E-24  #gm/amu\n",
    "    length /= 100.0  #in m\n",
    "    numberDensity = calcNumberDensity(pressure, temp)\n",
    "\n",
    "    #<vT>=(8kT/πμ)1/2 (m s-1)\n",
    "    reducedMass = ((ionMass * gasMass) / (ionMass + gasMass))\n",
    "    thermalVelocity = calcThermalVelocity(temp, reducedMass)  #m/s\n",
    "\n",
    "    eField = voltage / length\n",
    "\n",
    "    numerator = charge * constants.e * eField / 1.0E-17  #Townsend factor\n",
    "\n",
    "    denominator = reducedMass * thermalVelocity * numberDensity * ccs * (\n",
    "        1E-10)**2\n",
    "\n",
    "    DV = 0.75 * numerator / denominator\n",
    "    driftTime = 1 / DV * length\n",
    "    driftTime *= 1E-10\n",
    "\n",
    "    if debug:\n",
    "        print(\"Number Density: \", numberDensity)\n",
    "        print(\"Thermal Velocity: \", thermalVelocity)\n",
    "        print(\"Numerator: \", numerator)\n",
    "        print(\"E-Field: \", eField)\n",
    "        print(\"Denominator: \", denominator)\n",
    "\n",
    "    return driftTime  #in seconds"
   ]
  },
  {
   "cell_type": "code",
   "execution_count": 19,
   "metadata": {
    "collapsed": false
   },
   "outputs": [
    {
     "name": "stdout",
     "output_type": "stream",
     "text": [
      "328.56\n",
      "0.0248 s\n"
     ]
    }
   ],
   "source": [
    "T = 150\n",
    "ccs = 328.56\n",
    "ionMass = 527\n",
    "print(ccs)\n",
    "dt = driftFromCCS(DV, DL, P, T, ccs, 1, ionMass, GM)\n",
    "print(\"%.4f s\" % dt)"
   ]
  },
  {
   "cell_type": "markdown",
   "metadata": {
    "collapsed": false
   },
   "source": [
    "## Simulate IMS Peak Width: Accounting for Diffusion and Gate Pulse Width"
   ]
  },
  {
   "cell_type": "markdown",
   "metadata": {
    "collapsed": false
   },
   "source": [
    "## Eqn #5:     $$t_{\\mathrm{diffusion}} = \\left[ \\dfrac{16 \\ln 2\\;k_{\\mathrm{B}}\\;T}{q\\;V}\\right]^{\\frac{1}{2}}\\,t_d$$"
   ]
  },
  {
   "cell_type": "markdown",
   "metadata": {
    "collapsed": false
   },
   "source": [
    "## Eqn #6:    $$\\mathrm{FWHM}=\\sqrt{{t_{\\mathrm{diffusion}}}^{2}+\\mathrm{GPW}^2}$$"
   ]
  },
  {
   "cell_type": "code",
   "execution_count": 20,
   "metadata": {
    "collapsed": false
   },
   "outputs": [],
   "source": [
    "def imsPeakParams(voltage, length, charge, temp, gatePW, driftTime):\n",
    "    '''\n",
    "    length is in meters\n",
    "    temp is in Kelvins\n",
    "    gatePW is in microseconds\n",
    "    driftTime is in ms\n",
    "    '''\n",
    "    kerg = 1.38065E-16\n",
    "    diffPW = np.log(2) * 16 * kerg * temp * 0.0000001 / (\n",
    "        constants.e * charge * voltage)\n",
    "    diffPW = np.sqrt(diffPW) * driftTime\n",
    "    minpw = np.sqrt(diffPW**2 + gatePW**2)\n",
    "    return minpw"
   ]
  },
  {
   "cell_type": "code",
   "execution_count": 21,
   "metadata": {
    "collapsed": false
   },
   "outputs": [
    {
     "name": "stdout",
     "output_type": "stream",
     "text": [
      "0.00027664201053\n"
     ]
    }
   ],
   "source": [
    "DL = 10  #in cm\n",
    "DV = 4500  #in volts\n",
    "T = 150\n",
    "PW = 150.0  #in microseconds\n",
    "PW /= 1E6  #Convert to seconds\n",
    "dt = 0.02452\n",
    "minPW = imsPeakParams(DV, DL, 1, T + 273.15, PW, dt)\n",
    "print(minPW)"
   ]
  },
  {
   "cell_type": "code",
   "execution_count": 22,
   "metadata": {
    "collapsed": false
   },
   "outputs": [],
   "source": [
    "def getGaussian(amp, fwhm, mean):\n",
    "    '''\n",
    "    Return a Gaussian peak based upon the input parameters\n",
    "    '''\n",
    "    return lambda x: amp * np.exp(-4. * np.log(2) * (x - mean)**2 / fwhm**2)"
   ]
  },
  {
   "cell_type": "code",
   "execution_count": 23,
   "metadata": {
    "collapsed": false
   },
   "outputs": [],
   "source": [
    "amp = 100\n",
    "startTime = 0.0\n",
    "scanTime = 0.0300\n",
    "numPnts = 3000\n",
    "x = np.linspace(startTime, scanTime, numPnts)\n",
    "RMS = 0.05\n",
    "y = np.random.randn(numPnts) * RMS  #np.zeros_like(x)"
   ]
  },
  {
   "cell_type": "code",
   "execution_count": 24,
   "metadata": {
    "collapsed": false
   },
   "outputs": [],
   "source": [
    "# Number of Gaussian functions per spectrum\n",
    "numPeaks = 20\n",
    "\n",
    "# Component properties\n",
    "AMPS = np.random.randint(20, 100, numPeaks)  #[3,2,1]\n",
    "FWHMS = np.random.randint(10, 150, numPeaks)  #[3,2,1][20,50,40] # peak widths\n",
    "MEANS = np.random.randint(100, 900, numPeaks)  #[120,220,300] # locations\n",
    "\n",
    "AMPS = [100]\n",
    "FWHMS = [minPW]\n",
    "MEANS = [dt]\n",
    "\n",
    "# Used to add random noise\n",
    "# 0 is no noise and then you simply move on up.\n",
    "RMS = 1.0\n",
    "\n",
    "y = np.random.randn(len(x)) * RMS\n",
    "\n",
    "# Create spectrum\n",
    "for a, w, m in zip(AMPS, FWHMS, MEANS):\n",
    "    y += getGaussian(a, w, m)(x)"
   ]
  },
  {
   "cell_type": "code",
   "execution_count": 25,
   "metadata": {
    "collapsed": false
   },
   "outputs": [
    {
     "data": {
      "text/plain": [
       "Text(0.5,1,'Ion Mobility Simulation ')"
      ]
     },
     "execution_count": 25,
     "metadata": {},
     "output_type": "execute_result"
    },
    {
     "data": {
      "image/png": "[encoded data removed]",
      "text/plain": [
       "<Figure size 720x432 with 1 Axes>"
      ]
     },
     "metadata": {},
     "output_type": "display_data"
    }
   ],
   "source": [
    "plt.subplots(figsize=(10, 6))\n",
    "plt.plot(x, y)\n",
    "plt.title(\"Ion Mobility Simulation \")"
   ]
  },
  {
   "cell_type": "markdown",
   "metadata": {
    "collapsed": false
   },
   "source": [
    "## Eqn #7:    ## $$\\mathrm{v_d}=\\dfrac{3}{4}\\bigg(\\dfrac{zeE}{\\mu\\Omega\\mathrm{v_t}N}\\bigg) = \\dfrac{L}{t_d}$$"
   ]
  },
  {
   "cell_type": "code",
   "execution_count": 26,
   "metadata": {
    "collapsed": false
   },
   "outputs": [
    {
     "data": {
      "text/plain": [
       "4.078303425774878"
      ]
     },
     "execution_count": 26,
     "metadata": {},
     "output_type": "execute_result"
    }
   ],
   "source": [
    "vd = (DL / 100.0) / dt  #m/s\n",
    "vd"
   ]
  },
  {
   "cell_type": "code",
   "execution_count": 27,
   "metadata": {
    "collapsed": false
   },
   "outputs": [
    {
     "data": {
      "text/plain": [
       "580.4925583237939"
      ]
     },
     "execution_count": 27,
     "metadata": {},
     "output_type": "execute_result"
    }
   ],
   "source": [
    "ionMass = 527.0\n",
    "gasMass = 28.0\n",
    "reducedMass = ((ionMass * gasMass) / (ionMass + gasMass))\n",
    "vt = calcThermalVelocity(T + 273.15, reducedMass)  #m/s\n",
    "vt"
   ]
  },
  {
   "cell_type": "code",
   "execution_count": 28,
   "metadata": {
    "collapsed": false
   },
   "outputs": [
    {
     "data": {
      "text/plain": [
       "0.0070255912281652951"
      ]
     },
     "execution_count": 28,
     "metadata": {},
     "output_type": "execute_result"
    }
   ],
   "source": [
    "velRatio = vd / vt\n",
    "velRatio"
   ]
  },
  {
   "cell_type": "markdown",
   "metadata": {},
   "source": [
    "____"
   ]
  },
  {
   "cell_type": "markdown",
   "metadata": {},
   "source": [
    "## Beginning of Equations and Approach to Mobility Field Correction"
   ]
  },
  {
   "cell_type": "markdown",
   "metadata": {
    "collapsed": false
   },
   "source": [
    "## ${\\beta}$ Coefficient"
   ]
  },
  {
   "cell_type": "code",
   "execution_count": 29,
   "metadata": {
    "collapsed": false
   },
   "outputs": [],
   "source": [
    "vdvtRatio = np.linspace(0, 1, 100)"
   ]
  },
  {
   "cell_type": "code",
   "execution_count": 30,
   "metadata": {
    "collapsed": true
   },
   "outputs": [],
   "source": [
    "def calcBeta(vdvtRatio):\n",
    "    beta = (2 * np.sqrt(2 * (1 + vdvtRatio**2))) / (\n",
    "    (1 + vdvtRatio) + np.sqrt((1 + vdvtRatio**2) * (\n",
    "        (1 - 2 * vdvtRatio)**2) + 2 * vdvtRatio))\n",
    "    return beta"
   ]
  },
  {
   "cell_type": "code",
   "execution_count": 31,
   "metadata": {
    "collapsed": false
   },
   "outputs": [],
   "source": [
    "beta = calcBeta(vdvtRatio)"
   ]
  },
  {
   "cell_type": "code",
   "execution_count": 32,
   "metadata": {
    "collapsed": false
   },
   "outputs": [
    {
     "data": {
      "text/plain": [
       "Text(0.5,1,'Drift Velocity/Thermal Velocity Ratio vs. Beta')"
      ]
     },
     "execution_count": 32,
     "metadata": {},
     "output_type": "execute_result"
    },
    {
     "data": {
      "image/png": "[encoded data removed]",
      "text/plain": [
       "<Figure size 720x432 with 1 Axes>"
      ]
     },
     "metadata": {},
     "output_type": "display_data"
    }
   ],
   "source": [
    "plt.subplots(figsize=(10, 6))\n",
    "plt.ylabel(\"Beta\", fontsize = 16)\n",
    "plt.xlabel(\"vd/vt Ratio\", fontsize = 16)\n",
    "plt.plot(vdvtRatio, beta, 'go-')\n",
    "plt.title(\"Drift Velocity/Thermal Velocity Ratio vs. Beta\", fontsize = 16)"
   ]
  },
  {
   "cell_type": "markdown",
   "metadata": {},
   "source": [
    "## Ratio of $v_d/v_t$ to the number of cooling collisions\n",
    "* Fraction of cooling collisions as a function of vd/vT. The values are obtained by numerical integration. See ESI2 in the BLH Paper in Analyst.\n"
   ]
  },
  {
   "cell_type": "code",
   "execution_count": 33,
   "metadata": {
    "collapsed": false
   },
   "outputs": [],
   "source": [
    "betaSlope = np.diff(beta) / np.diff(vdvtRatio)"
   ]
  },
  {
   "cell_type": "code",
   "execution_count": 34,
   "metadata": {
    "collapsed": false
   },
   "outputs": [
    {
     "data": {
      "text/plain": [
       "Text(0.5,1,'vd/vt Ratio vs. Cooling Fraction')"
      ]
     },
     "execution_count": 34,
     "metadata": {},
     "output_type": "execute_result"
    },
    {
     "data": {
      "image/png": "[encoded data removed]",
      "text/plain": [
       "<Figure size 720x432 with 1 Axes>"
      ]
     },
     "metadata": {},
     "output_type": "display_data"
    }
   ],
   "source": [
    "plt.subplots(figsize=(10, 6))\n",
    "\n",
    "vdvtfc = np.loadtxt('velocityRatio.csv', skiprows=1, delimiter=',')\n",
    "vdvtCalc = vdvtfc[:, 0]\n",
    "fcCalc = vdvtfc[:, 1]\n",
    "plt.plot(vdvtCalc, fcCalc, 'o-', mfc='white', mec='red', mew=1.0)\n",
    "plt.xlabel('vd/vt Ratio', fontsize=16)\n",
    "plt.ylabel('fc', fontsize=16)\n",
    "plt.title(\"vd/vt Ratio vs. Cooling Fraction\", fontsize = 20)"
   ]
  },
  {
   "cell_type": "code",
   "execution_count": 35,
   "metadata": {
    "collapsed": false
   },
   "outputs": [],
   "source": [
    "f = interpolate.UnivariateSpline(vdvtCalc, fcCalc, s=0)\n",
    "xnew = np.linspace(vdvtCalc.min(), vdvtCalc.max(),\n",
    "                   len(vdvtCalc) * 100)  #increase the length of vdvtCalc\n",
    "fcCalcNew = f(xnew)"
   ]
  },
  {
   "cell_type": "markdown",
   "metadata": {},
   "source": [
    "## The following places the cooling fraction integration into memory as a function to call directly when calculating the correction factors."
   ]
  },
  {
   "cell_type": "code",
   "execution_count": 36,
   "metadata": {
    "collapsed": false
   },
   "outputs": [
    {
     "data": {
      "text/plain": [
       "Text(0.5,1,'vd/vt Ratio vs. Cooling Fraction')"
      ]
     },
     "execution_count": 36,
     "metadata": {},
     "output_type": "execute_result"
    },
    {
     "data": {
      "image/png": "[encoded data removed]",
      "text/plain": [
       "<Figure size 720x432 with 1 Axes>"
      ]
     },
     "metadata": {},
     "output_type": "display_data"
    }
   ],
   "source": [
    "plt.subplots(figsize=(10, 6))\n",
    "plt.plot(xnew, fcCalcNew, '.-', mfc='white', mec='blue', mew=1.0)\n",
    "plt.xlabel('vd/vt Ratio', fontsize=16)\n",
    "plt.ylabel('fc-Interpolated', fontsize=16)\n",
    "plt.title(\"vd/vt Ratio vs. Cooling Fraction\", fontsize = 20)"
   ]
  },
  {
   "cell_type": "code",
   "execution_count": 37,
   "metadata": {
    "collapsed": false
   },
   "outputs": [],
   "source": [
    "from scipy.interpolate import interp1d\n",
    "\n",
    "\n",
    "def NearestValue(array, value):\n",
    "    #returns the index of the element of the array which is closest to value\n",
    "\n",
    "    idx = (np.abs(array - value)).argmin()\n",
    "    return idx"
   ]
  },
  {
   "cell_type": "code",
   "execution_count": 38,
   "metadata": {
    "collapsed": false
   },
   "outputs": [
    {
     "name": "stdout",
     "output_type": "stream",
     "text": [
      "0.00702559122817 0.5083221838701071\n"
     ]
    }
   ],
   "source": [
    "fcInterp = np.interp(velRatio, xnew, fcCalcNew)\n",
    "print(velRatio, fcInterp)"
   ]
  },
  {
   "cell_type": "markdown",
   "metadata": {
    "collapsed": false
   },
   "source": [
    "#### $\\dfrac{E}{N}$ Corrected Equation: $\\quad \\Omega_{MT}=\\dfrac{3}{4}\\bigg(\\dfrac{zeE}{\\mu{v_d}{v_T}N}\\bigg)\\cdot\\bigg(1+\\bigg(\\dfrac{\\color{red}\\beta}{\\color{blue}\\alpha}\\bigg)^2\\bigg(\\dfrac{v_d}{v_t}\\bigg)^2\\bigg)^{-1/2}$"
   ]
  },
  {
   "cell_type": "markdown",
   "metadata": {},
   "source": [
    "### Origianl Zero Field Equation"
   ]
  },
  {
   "cell_type": "markdown",
   "metadata": {
    "collapsed": false
   },
   "source": [
    "####     $$\\Omega=\\bigg(\\dfrac{3}{16}\\bigg)\\bigg(\\dfrac{2\\pi}{\\mu\\mathrm{k_{b}}\\mathrm{T}}\\bigg)^{\\frac{1}{2}}\\bigg(\\dfrac{ze}{KN}\\bigg)=\\dfrac{3}{4}\\bigg(\\dfrac{zeE}{\\mu\\mathrm{v_d}\\mathrm{v_T}N}\\bigg)$$"
   ]
  },
  {
   "cell_type": "markdown",
   "metadata": {
    "collapsed": false
   },
   "source": [
    "#### $(1)\\quad \\Omega_{MT}=\\dfrac{3}{4}\\bigg(\\dfrac{{\\color{blue}\\alpha}\\cdot ze}{\\mu\\cdot(\\mathrm{v_T+{\\color{green}\\beta} v_d)}}\\bigg)\\bigg(\\dfrac{eE}{v_d\\cdot N}\\bigg)\\cdot{\\color{red}\\zeta_{mt}}$"
   ]
  },
  {
   "cell_type": "markdown",
   "metadata": {},
   "source": [
    "#### $(1)\\quad \\Omega_{MT}=\\dfrac{3}{4}\\bigg(\\dfrac{zeE}{\\mu{v_d}{v_T}N}\\bigg)\\cdot\\bigg(1+\\bigg(\\dfrac{\\color{red}\\beta}{\\color{blue}\\alpha}\\bigg)^2\\bigg(\\dfrac{v_d}{v_t}\\bigg)^2\\bigg)^{-1/2}$"
   ]
  },
  {
   "cell_type": "markdown",
   "metadata": {
    "collapsed": false
   },
   "source": [
    "#### $(2)\\quad {\\color{blue}\\alpha} = \\frac{2}{3}\\big[1+ \\hat{m}\\cdot f_c+\\hat{M}\\cdot f_h\\big]$"
   ]
  },
  {
   "cell_type": "markdown",
   "metadata": {
    "collapsed": false
   },
   "source": [
    "#### $(3)\\quad \\dfrac{2}{3}\\le{\\color{blue}\\alpha}\\le\\dfrac{4}{3}$"
   ]
  },
  {
   "cell_type": "markdown",
   "metadata": {
    "collapsed": false
   },
   "source": [
    "#### $(4)\\quad {\\color{green}\\beta} =\\sqrt{\\frac{2}{\\hat{m}(1+\\hat{m})}} $"
   ]
  },
  {
   "cell_type": "markdown",
   "metadata": {
    "collapsed": false
   },
   "source": [
    "#### $(5)\\quad {\\color{red}\\zeta_{mt}}={\\Big[1+\\Big(\\frac{{\\color{green}\\beta} v_d}{{\\color{blue}\\alpha} v_T}\\Big)\\Big]}^{-1/2}$"
   ]
  },
  {
   "cell_type": "code",
   "execution_count": 39,
   "metadata": {
    "collapsed": false
   },
   "outputs": [],
   "source": [
    "def calcAlpha(m, M, fc):\n",
    "    mhat = m / (m + M)\n",
    "    Mhat = M / (m + M)\n",
    "    alpha = (2 / 3.0) * (1 + mhat * fc + Mhat * (1 - fc))\n",
    "    return alpha"
   ]
  },
  {
   "cell_type": "code",
   "execution_count": 79,
   "metadata": {
    "collapsed": false
   },
   "outputs": [
    {
     "data": {
      "text/plain": [
       "1.0049941889483065"
      ]
     },
     "execution_count": 79,
     "metadata": {},
     "output_type": "execute_result"
    }
   ],
   "source": [
    "calcAlpha(533.0, 28.0, 0.508322)"
   ]
  },
  {
   "cell_type": "markdown",
   "metadata": {
    "collapsed": false
   },
   "source": [
    "### Transverse Velocity Coefficient $\\beta_{MT}$"
   ]
  },
  {
   "cell_type": "code",
   "execution_count": 41,
   "metadata": {
    "collapsed": false
   },
   "outputs": [],
   "source": [
    "def calcTransverseVelCoeff(m, M):\n",
    "    '''\n",
    "    Also known as $beta_MT$\n",
    "    '''\n",
    "    mhat = m * 1.0 / (m + M)\n",
    "    return np.sqrt(2.0 / mhat / (1 + mhat))"
   ]
  },
  {
   "cell_type": "code",
   "execution_count": 80,
   "metadata": {
    "collapsed": false
   },
   "outputs": [
    {
     "data": {
      "text/plain": [
       "1.0394151508832672"
      ]
     },
     "execution_count": 80,
     "metadata": {},
     "output_type": "execute_result"
    }
   ],
   "source": [
    "calcTransverseVelCoeff(527, 28)"
   ]
  },
  {
   "cell_type": "markdown",
   "metadata": {
    "collapsed": false
   },
   "source": [
    "## $v_r = (v_t^2 + \\frac{\\beta}{\\alpha})^2v_d^2)^{1/2} (m s^{-1})$"
   ]
  },
  {
   "cell_type": "code",
   "execution_count": 43,
   "metadata": {
    "collapsed": false
   },
   "outputs": [],
   "source": [
    "def calcVR(vd, vT, beta, alpha):\n",
    "    vr = np.sqrt(vT**2 + (beta / alpha)**2 * vd**2)\n",
    "    return vr"
   ]
  },
  {
   "cell_type": "code",
   "execution_count": 44,
   "metadata": {
    "collapsed": false
   },
   "outputs": [
    {
     "data": {
      "text/plain": [
       "467.06028246449392"
      ]
     },
     "execution_count": 44,
     "metadata": {},
     "output_type": "execute_result"
    }
   ],
   "source": [
    "calcVR(37.3114, 465.43, 1.022, 0.978)"
   ]
  },
  {
   "cell_type": "markdown",
   "metadata": {
    "collapsed": false
   },
   "source": [
    "## $\\zeta_{mt}={\\Big[1+\\Big(\\frac{\\beta v_d}{\\alpha v_T}\\Big)\\Big]}^{-1/2}$"
   ]
  },
  {
   "cell_type": "code",
   "execution_count": 178,
   "metadata": {
    "collapsed": false
   },
   "outputs": [],
   "source": [
    "def zetaMT(vd, vT, beta, alpha):\n",
    "    '''\n",
    "    Momentum transfer fraction coefficient\n",
    "    '''\n",
    "    return 1.0 / np.sqrt(1 + ((beta * vd) / (alpha * vT))**2)"
   ]
  },
  {
   "cell_type": "code",
   "execution_count": 179,
   "metadata": {
    "collapsed": false
   },
   "outputs": [
    {
     "data": {
      "text/plain": [
       "0.99997360580904282"
      ]
     },
     "execution_count": 179,
     "metadata": {},
     "output_type": "execute_result"
    }
   ],
   "source": [
    "zetaMT(4.078, 580.49, 1.0394, 1.00498)"
   ]
  },
  {
   "cell_type": "markdown",
   "metadata": {},
   "source": [
    "### In summary, it is necessary to input the charge, drift velocity, the thermal velocity of the gas, number density, electric field, and reduced mass. "
   ]
  },
  {
   "cell_type": "code",
   "execution_count": 243,
   "metadata": {
    "collapsed": false
   },
   "outputs": [],
   "source": [
    "def calcCorrectedCCS(ionMass, ionCharge, gasMass, driftLength, driftPotential, driftTime, gasPress, gasTemp, fcList = [xnew, fcCalcNew], debug = True):\n",
    "    '''\n",
    "    ccs is in square angstroms\n",
    "    pressure is in torr\n",
    "    length is in cm\n",
    "    Temp is in Kelvin\n",
    "    ionMass and gasMass are in amu\n",
    "    drift time is in seconds\n",
    "    potential is in Volts\n",
    "    '''\n",
    "    #Scale some of the input values to get them in SI units\n",
    "    driftLength /= 100.0 #in m\n",
    "    massConv = 1.660539E-24  #gm/amu\n",
    "    \n",
    "    reducedMass = ((ionMass * gasMass) / (ionMass + gasMass))\n",
    "    vt = calcThermalVelocity(gasTemp, reducedMass)  #m/s\n",
    "    vd = driftLength/driftTime\n",
    "    velRatio = vd/vt\n",
    "    fc = np.interp(velRatio, fcList[0], fcList[1])\n",
    "    \n",
    "    alpha = calcAlpha(ionMass, gasMass, fc)\n",
    "    beta = calcTransverseVelCoeff(ionMass, gasMass)#calcBeta(velRatio)\n",
    "    numDens = calcNumberDensity(gasPress, gasTemp, No=2.68677E25)\n",
    "    \n",
    "    ccsRaw = ccsFromDriftTime(driftPotential, driftLength, gasPress, gasTemp, driftTime, ionCharge, ionMass, gasMass, False)\n",
    "\n",
    "    eField = driftPotential / (driftLength)  #V/m\n",
    "    corrCCS = ccsRaw*1.0/np.sqrt(1+((beta/alpha)**2)*((vd/vt)**2))\n",
    "\n",
    "    if debug:\n",
    "        print(\"E-Field: \", eField / 100, 'V/cm')\n",
    "        print(\"Drift Velocity: \", vd)\n",
    "        print(\"Thermal Velocity: \", vt)\n",
    "        print(\"Number Density: \", numDens)\n",
    "        print('fc: ', fc)\n",
    "        print(\"Alpha: \", alpha)\n",
    "        print(\"Beta: \", beta)\n",
    "#         print(\"Zeta: \", zeta)\n",
    "        print(\"E/N :\", eField/numDens*1E17*1E4)#Convert to townsend and get rid of cm\n",
    "    \n",
    "    return corrCCS*1E-4#scaling factor for dimensions\n"
   ]
  },
  {
   "cell_type": "code",
   "execution_count": 245,
   "metadata": {
    "collapsed": true
   },
   "outputs": [],
   "source": [
    "T = 373.15\n",
    "P = 700\n",
    "gasMass = 30.0\n",
    "driftTime = 16.39/1000#convert to seconds\n",
    "DL = 20.99 #cm\n",
    "DV = DL*550\n",
    "ionMass = 226.0"
   ]
  },
  {
   "cell_type": "code",
   "execution_count": 246,
   "metadata": {
    "collapsed": false
   },
   "outputs": [
    {
     "name": "stdout",
     "output_type": "stream",
     "text": [
      "Drift Velocity in m/s: 12.80658938377059\n",
      "E-Field:  550.0000000000001 V/cm\n",
      "Drift Velocity 12.80658938377059 m/s\n",
      "Thermal Velocity:  546.177964322\n",
      "Number Density:  1.8114764693540766e+25\n",
      "Numerator:  3.64839327068741e-23\n",
      "Denominator:  3.07614262817e-19\n"
     ]
    },
    {
     "data": {
      "text/plain": [
       "118.60286442097711"
      ]
     },
     "execution_count": 246,
     "metadata": {},
     "output_type": "execute_result"
    }
   ],
   "source": [
    "ccsFromDriftTime(DV, DL, P, T, driftTime, 1, ionMass, gasMass, True)"
   ]
  },
  {
   "cell_type": "code",
   "execution_count": 247,
   "metadata": {
    "collapsed": false,
    "scrolled": true
   },
   "outputs": [
    {
     "name": "stdout",
     "output_type": "stream",
     "text": [
      "E-Field:  550.0000000000001 V/cm\n",
      "Drift Velocity:  12.80658938377059\n",
      "Thermal Velocity:  546.177964322\n",
      "Number Density:  1.8114764693540766e+25\n",
      "fc:  0.5249283761538448\n",
      "Alpha:  1.012723858661858\n",
      "Beta:  1.09692573211\n",
      "E/N : 3.036197319174205\n",
      "118.564632499\n"
     ]
    }
   ],
   "source": [
    "corrCCS = calcCorrectedCCS(ionMass, 1, gasMass, DL, DV, driftTime, P, T)\n",
    "print(corrCCS)"
   ]
  },
  {
   "cell_type": "code",
   "execution_count": 248,
   "metadata": {
    "collapsed": false
   },
   "outputs": [],
   "source": [
    "def calcCorrectedCCSfromTable(ionMass, ionCharge, gasMass, driftLength, driftPotential, redMob, gasPress, gasTemp, fcList = [xnew, fcCalcNew], debug = True):\n",
    "    '''\n",
    "    ccs is in square angstroms\n",
    "    pressure is in torr\n",
    "    length is in cm\n",
    "    Temp is in Kelvin\n",
    "    ionMass and gasMass are in amu\n",
    "    redMob is in cm^2/Vs\n",
    "    potential is in Volts\n",
    "    '''\n",
    "    #Scale some of the input values to get them in SI units\n",
    "    driftLength /= 100.0 #in m\n",
    "    massConv = 1.660539E-24  #gm/amu\n",
    "    \n",
    "    reducedMass = ((ionMass * gasMass) / (ionMass + gasMass))\n",
    "    vt = calcThermalVelocity(gasTemp, reducedMass)  #m/s\n",
    "    driftTime = driftTimeFromReducedMobility(redMob, gasPress, gasTemp, driftLength*100, driftPotential)\n",
    "#     print(driftTime)\n",
    "    vd = driftLength/driftTime\n",
    "    velRatio = vd/vt\n",
    "    fc = np.interp(velRatio, fcList[0], fcList[1])\n",
    "    \n",
    "    alpha = calcAlpha(ionMass, gasMass, fc)\n",
    "    beta = calcTransverseVelCoeff(ionMass, gasMass)#calcBeta(velRatio)\n",
    "    numDens = calcNumberDensity(gasPress, gasTemp, No=2.68677E25)\n",
    "    \n",
    "    eField = driftPotential / (driftLength)  #V/m\n",
    "    \n",
    "    \n",
    "    ccsRaw = ccsFromDriftTime(driftPotential, driftLength, gasPress, gasTemp, driftTime, ionCharge, ionMass, gasMass, False)\n",
    "#     print(ccsRaw)\n",
    "    corrCCS = ccsRaw*1.0/np.sqrt(1+((beta/alpha)**2)*((vd/vt)**2))\n",
    "\n",
    "    \n",
    "    if debug:\n",
    "        print(\"E-Field: \", eField / 100, 'V/cm')\n",
    "        print(\"Drift Velocity: \", vd)\n",
    "        print(\"Thermal Velocity: \", vt)\n",
    "        print(\"Number Density: \", numDens)\n",
    "        print('fc: ', fc)\n",
    "        print(\"Alpha: \", alpha)\n",
    "        print(\"Beta: \", beta)\n",
    "#         print(\"Zeta: \", zeta)\n",
    "        print(\"E/N :\", eField/numDens*1E17*1E4)#Convert to townsend and get rid of cm\n",
    "    \n",
    "    return corrCCS*1E-4#scaling factor for dimensions\n"
   ]
  },
  {
   "cell_type": "code",
   "execution_count": 249,
   "metadata": {
    "collapsed": false
   },
   "outputs": [
    {
     "name": "stdout",
     "output_type": "stream",
     "text": [
      "E-Field:  550.0000000000001 V/cm\n",
      "Drift Velocity:  12.807375277843153\n",
      "Thermal Velocity:  546.177964322\n",
      "Number Density:  1.8114764693540766e+25\n",
      "fc:  0.5249298142145195\n",
      "Alpha:  1.012724592671994\n",
      "Beta:  1.09692573211\n",
      "E/N : 3.036197319174205\n",
      "118.557352428\n"
     ]
    }
   ],
   "source": [
    "redMob = 1.570\n",
    "ccsMT = calcCorrectedCCSfromTable(ionMass, 1, gasMass, DL, DV, redMob, P, T)\n",
    "print(ccsMT)"
   ]
  },
  {
   "cell_type": "markdown",
   "metadata": {
    "collapsed": false
   },
   "source": [
    "### $$\\quad \\Omega_{MT}=\\dfrac{3}{4}\\bigg(\\dfrac{zeE}{\\mu{v_d}{v_T}N}\\bigg)\\cdot\\bigg(1+\\bigg(\\dfrac{\\color{red}\\beta}{\\color{blue}\\alpha}\\bigg)^2\\bigg(\\dfrac{v_d}{v_t}\\bigg)^2\\bigg)^{-1/2}$$"
   ]
  },
  {
   "cell_type": "markdown",
   "metadata": {},
   "source": [
    "______"
   ]
  },
  {
   "cell_type": "markdown",
   "metadata": {},
   "source": [
    "#### Sanity Check from [Zhang et al. ACP Manuscript](https://www.atmos-chem-phys.net/16/12945/2016/)\n",
    "* doi:10.5194/acp-16-12945-2016"
   ]
  },
  {
   "cell_type": "markdown",
   "metadata": {},
   "source": [
    "#### Code translated from matlab supplied by Zhang in the supplementary material"
   ]
  },
  {
   "cell_type": "code",
   "execution_count": 153,
   "metadata": {
    "collapsed": false,
    "scrolled": true
   },
   "outputs": [
    {
     "name": "stdout",
     "output_type": "stream",
     "text": [
      "Drift Voltage:  11550\n",
      "E-Field 550.0\n",
      "Drift Velocity:  8.635\n",
      "Thermal Velocity:  546.3952543355338\n",
      "Alpha:  1.0127246875\n",
      "beta:  1.0969257321091987\n",
      "1.3827043079385826e-25\n"
     ]
    }
   ],
   "source": [
    "# Constants\n",
    "q = 1.6e-19; # Ionic charge; unit: kg m2 V-1 s-2\n",
    "kb = 1.3806e-23; # Boltzman constant; unit: m2 kg s-2 K-1\n",
    "N0 = 2.69e25; # Number density of an ideal gas at 0 ∞C and 1 atm; unit: m-3\n",
    "T0 = 273.15; # Standard temperature; unit: K\n",
    "P0 = 760; # Standard pressure; unit: mbar\n",
    "M = 30; # N2 molecular weight; unit: amu\n",
    "fc = 0.52493; # Fraction of collisions in the cooling classes;\n",
    "fh = 1.0-fc; # Fraction of collisions in the heating classes;\n",
    "# Instrument parameters\n",
    "# !! Need to be constrained using instrument standard by Equation (5) !!\n",
    "L = 21.0; # Drift tube length; unit: cm\n",
    "T = 373.15; # Drift tube temperature; unit: K\n",
    "P = 700; # Drift tube pressure; unit: mbar\n",
    "Ud = DV; # Potential gradient on the drift tube; unit: V\n",
    "print(\"Drift Voltage: \", Ud)\n",
    "print(\"E-Field\", Ud/L)\n",
    "# Measurements\n",
    "m = ionMass; # Molecular weight of the ion; unit: amu\n",
    "z = 1; # Number of charges on the ion;\n",
    "# slope = 200.51; # Linear regression of Equation (3)\n",
    "# Calculations\n",
    "# K0 = (T0/T)*(P/P0)*(L**2./slope); # Reduced ion mobility constant; unit (cm^2/s/V)\n",
    "K0 = 1.570\n",
    "Vd = (Ud/L)*K0/100; # Drfit velocity of the ion; unit: m s-1\n",
    "# Vd = 4.07\n",
    "print(\"Drift Velocity: \", Vd)\n",
    "Vt = ((8*kb*T)/(3.14*1.66E-27*(m*M)/(m+M)))**0.5; # Termal velocity of the ion; unit: m s-1\n",
    "print(\"Thermal Velocity: \", Vt)\n",
    "alpha = (2/3)*(1+fc*m/(m+M)+fh*M/(m+M)); # Correction coefficients for collision frequency\n",
    "print(\"Alpha: \", alpha)\n",
    "beta = (2./(m/(m+M))/(1+(m/(m+M))))**0.5; # Correction coefficients for momentum transfer\n",
    "print(\"beta: \", beta)\n",
    "\n",
    "CCS = 10**20*(3*z*q/16/N0)*(2*3.14/kb/T0)**0.5*((m+M)/m/M/1.66e27)**0.5*(10**4./K0)*(1+(beta/alpha)**2*(Vd/Vt)**2)**0.5 # Collision cross section; unit: A^2\n",
    "print(CCS)"
   ]
  },
  {
   "cell_type": "markdown",
   "metadata": {},
   "source": [
    "______"
   ]
  },
  {
   "cell_type": "markdown",
   "metadata": {
    "collapsed": false
   },
   "source": [
    "#### Mean Free Path Calculation"
   ]
  },
  {
   "cell_type": "markdown",
   "metadata": {
    "collapsed": false
   },
   "source": [
    "## ${\\lambda}_1 =\\dfrac{1}{n_1\\pi{\\sigma}_{11}^2 + n_2\\pi{\\sigma}_{12}^2\\sqrt{1+m_1/m_2}}$"
   ]
  },
  {
   "cell_type": "markdown",
   "metadata": {
    "collapsed": false
   },
   "source": [
    "If $n_1\\ll n_2$ only the primary gas will dominate\n",
    "(Chapman and\n",
    "Cowling, 1970)\n",
    "\n",
    "When only one gas is present, the familiar formula λ1 = 1/(\n",
    "√\n",
    "2nπσ2\n",
    ") is recovered. When n1 << n2,\n",
    "the first term in the denominator, resulting from like-molecule collisions, is negligible. With this\n",
    "expression, the mean free path of H2O in a dry CO2 atmosphere at 600 Pa and 200 K is λ1 ≈ 9 µm."
   ]
  },
  {
   "cell_type": "markdown",
   "metadata": {
    "collapsed": false
   },
   "source": [
    "---"
   ]
  },
  {
   "cell_type": "code",
   "execution_count": 51,
   "metadata": {
    "collapsed": false
   },
   "outputs": [
    {
     "name": "stdout",
     "output_type": "stream",
     "text": [
      "(0.18258905014552554, -0.0816164123626784)\n",
      "(0.9129452507276277, -0.40808206181339196)\n"
     ]
    },
    {
     "data": {
      "image/png": "[encoded data removed]",
      "text/plain": [
       "<Figure size 864x432 with 1 Axes>"
      ]
     },
     "execution_count": 51,
     "metadata": {
      "image/png": {
       "height": 358,
       "width": 729
      }
     },
     "output_type": "execute_result"
    }
   ],
   "source": [
    "fig, ax = plt.subplots(figsize=(12, 6))\n",
    "\n",
    "mSize = 0.15\n",
    "mLoc = [-1.0, 0.0]\n",
    "\n",
    "#original location of m\n",
    "c = plt.Circle(mLoc, color='g', radius=mSize, alpha=0.5, ec='k', lw=2.0)\n",
    "ax.add_patch(c)\n",
    "\n",
    "plt.arrow(\n",
    "    -1,  #x1\n",
    "    0.0,  # y1\n",
    "    1,  # x2 - x1\n",
    "    0,  # y2 - y1\n",
    "    color='k',\n",
    "    width=0.01,\n",
    "    head_width=0.005,\n",
    "    alpha=0.75,\n",
    "    linestyle=':')\n",
    "\n",
    "#collision location of m\n",
    "cLoc = [0, 0]\n",
    "c = plt.Circle(cLoc, color='white', radius=mSize, alpha=0.5, ec='g', lw=2.0)\n",
    "ax.add_patch(c)\n",
    "\n",
    "#collision location of M\n",
    "phi = 20.0\n",
    "gSize = 0.05\n",
    "gLocX = (mSize + gSize) * np.sin(phi)\n",
    "gLocY = -1 * (mSize + gSize) * np.cos(phi)\n",
    "print(gLocX, gLocY)\n",
    "gLoc = [gLocX, gLocY]\n",
    "c = plt.Circle(gLoc, color='white', radius=gSize, alpha=0.5, ec='b', lw=2.0)\n",
    "ax.add_patch(c)\n",
    "\n",
    "#post-collision location of M\n",
    "phi = 20.0\n",
    "gSize = 0.05\n",
    "gDist = 1\n",
    "gLocX = (gDist) * np.sin(phi)\n",
    "gLocY = -1 * (gDist) * np.cos(phi)\n",
    "print(gLocX, gLocY)\n",
    "gLoc = [gLocX, gLocY]\n",
    "c = plt.Circle(gLoc, color='blue', radius=gSize, alpha=0.5, ec='b', lw=2.0)\n",
    "ax.add_patch(c)\n",
    "\n",
    "plt.arrow(\n",
    "    0,  #x1\n",
    "    0,  # y1\n",
    "    (gDist - 0.05) * np.sin(phi),  # x2 - x1\n",
    "    -1 * (gDist - 0.05) * np.cos(phi),  # y2 - y1\n",
    "    color='k',\n",
    "    width=0.005,\n",
    "    head_width=0.05,\n",
    "    alpha=0.5,\n",
    "    linestyle=':')\n",
    "\n",
    "#post-collision location of m\n",
    "zeta = 5.0\n",
    "mDist = 0.6\n",
    "mLocX = -1 * (mDist) * np.sin(zeta)\n",
    "mLocY = (mDist) * np.cos(zeta)\n",
    "mLoc = [mLocX, mLocY]\n",
    "c = plt.Circle(mLoc, color='g', radius=mSize, alpha=0.5, ec='k', lw=2.0)\n",
    "ax.add_patch(c)\n",
    "\n",
    "plt.arrow(\n",
    "    0,  #x1\n",
    "    0,  # y1\n",
    "    -1 * (mDist - 0.05) * np.sin(zeta),  # x2 - x1\n",
    "    (mDist - 0.05) * np.cos(zeta),  # y2 - y1\n",
    "    color='k',\n",
    "    width=0.005,\n",
    "    head_width=0.05,\n",
    "    alpha=0.5,\n",
    "    linestyle=':')\n",
    "\n",
    "plt.plot(0.0, 0.0, 'sk', alpha=0.4)\n",
    "\n",
    "plt.axis('equal')\n",
    "\n",
    "plt.xlim(-2, 2)\n",
    "plt.ylim(-1, 1)\n",
    "plt.grid()"
   ]
  }
 ],
 "metadata": {
  "kernelspec": {
   "display_name": "Python [conda env:Anaconda3]",
   "language": "python",
   "name": "conda-env-Anaconda3-py"
  },
  "language_info": {
   "codemirror_mode": {
    "name": "ipython",
    "version": 3
   },
   "file_extension": ".py",
   "mimetype": "text/x-python",
   "name": "python",
   "nbconvert_exporter": "python",
   "pygments_lexer": "ipython3",
   "version": "3.5.2"
  }
 },
 "nbformat": 4,
 "nbformat_minor": 0
}
