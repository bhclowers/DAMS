{
 "cells": [
  {
   "cell_type": "markdown",
   "metadata": {},
   "source": [
    "**Remember `shift + enter` to run a cell**"
   ]
  },
  {
   "cell_type": "markdown",
   "metadata": {},
   "source": [
    "#### Ion Trajectory Simulations in Quadrupole Mass Filter"
   ]
  },
  {
   "cell_type": "markdown",
   "metadata": {},
   "source": [
    "#### Mass filters serve as indispensible analytical tools that stretch across disciplines\n",
    "* Residual Gas Analyzers (RGAs)\n",
    "* Underlying technology supporting triple quadrupole systems\n",
    "  * Most sensitive mass spectrometers\n",
    "* Front end separations and filters for additional high resolution systems"
   ]
  },
  {
   "cell_type": "code",
   "execution_count": 21,
   "metadata": {
    "collapsed": true
   },
   "outputs": [],
   "source": [
    "import scipy.special as sp\n",
    "from scipy import integrate\n",
    "import numpy as np\n",
    "import matplotlib.pyplot as plt\n",
    "%matplotlib inline\n",
    "\n",
    "from scipy import integrate\n",
    "import scipy.constants as C"
   ]
  },
  {
   "cell_type": "code",
   "execution_count": 22,
   "metadata": {
    "collapsed": false
   },
   "outputs": [],
   "source": [
    "from matplotlib import animation, rc\n",
    "#https://stackoverflow.com/questions/23074484/cannot-save-matplotlib-animation-with-ffmpeg\n",
    "plt.rcParams['animation.ffmpeg_path'] = '/anaconda2/envs/p4env/bin/ffmpeg'\n",
    "from IPython.display import HTML"
   ]
  },
  {
   "cell_type": "code",
   "execution_count": 23,
   "metadata": {
    "collapsed": true
   },
   "outputs": [],
   "source": [
    "#import seaborn as sns # use for fancy plots"
   ]
  },
  {
   "cell_type": "markdown",
   "metadata": {},
   "source": [
    "### Adapted from the Jimenez Research Group: http://cires1.colorado.edu/jimenez-group/"
   ]
  },
  {
   "cell_type": "code",
   "execution_count": 24,
   "metadata": {
    "collapsed": true
   },
   "outputs": [],
   "source": [
    "e_C = 1.6e-19 # Unit charge in C\n",
    "AMU_2_KG = 1.6603e-27 # Mass of an amu in kg\n",
    "L_QUAD_m = 0.11 # Length of quadrupole in m0.11\n",
    "FREQ_Hz = 2.26e6 # Frequency of the voltage on the quadrupole\n",
    "R0_m = 0.0045 # Quadrupole rod diameter in mm\n",
    "EZ_eV = 20 # Kinetic energy in the Z direction, eV\n",
    "YES = 1 # Note this trick to make code more understandable\n",
    "NO = 0"
   ]
  },
  {
   "cell_type": "code",
   "execution_count": 25,
   "metadata": {
    "collapsed": false
   },
   "outputs": [
    {
     "data": {
      "text/plain": [
       "1.6021766208e-19"
      ]
     },
     "execution_count": 25,
     "metadata": {},
     "output_type": "execute_result"
    }
   ],
   "source": [
    "C.elementary_charge"
   ]
  },
  {
   "cell_type": "code",
   "execution_count": 26,
   "metadata": {
    "collapsed": false
   },
   "outputs": [
    {
     "data": {
      "text/plain": [
       "3.141592653589793"
      ]
     },
     "execution_count": 26,
     "metadata": {},
     "output_type": "execute_result"
    }
   ],
   "source": [
    "np.pi"
   ]
  },
  {
   "cell_type": "code",
   "execution_count": 27,
   "metadata": {
    "collapsed": true
   },
   "outputs": [],
   "source": [
    "def Calc_Ion_Traj_Quad(ionMassAMU, U, V, nSteps = 100, freqHZ = 2.26E6, r0 = 0.0045, quadLength = 0.11, zKE = 20.0, verbose = False):\n",
    "    '''\n",
    "    ************ Calculate the trajectory of an ion *************************\n",
    "    Following the Steel and Benchman (1998) J Chem Ed article\n",
    "    ionMassAMU\t\t// mass of the singly charged ion in amu\n",
    "    Variable U, V\n",
    "    Variable N_STEPS\n",
    "    \n",
    "    Variable IonMass_kg\t\t\t// Ion mass in kg\n",
    "    Variable a, q\t\t\t\t\t// Quad parameters\n",
    "    '''\n",
    "    omegaRad = freqHZ * 2 * np.pi\n",
    "    wTime = np.arange(nSteps)\n",
    "    wPhi = np.zeros(nSteps)\n",
    "    wX = np.zeros(nSteps)\n",
    "    wY = np.zeros(nSteps)\n",
    "    wZ = np.zeros(nSteps)\n",
    "    wVx = np.zeros(nSteps)\n",
    "    wVy = np.zeros(nSteps)\n",
    "\n",
    "    \n",
    "    ionMassKG = ionMassAMU * C.m_u\n",
    "    a = 8 * C.elementary_charge * U / (r0**2 * ionMassKG * omegaRad**2)\n",
    "    q = 4 * C.elementary_charge * V / (r0**2 * ionMassKG * omegaRad**2)\n",
    "    \n",
    "    wX[0] = 0.0007 \n",
    "    wY[0] = 0.0007\n",
    "\n",
    "    #Integration Loop\n",
    "    \n",
    "    vZ = np.sqrt(2 * C.elementary_charge * zKE / ionMassKG)\n",
    "    if verbose:\n",
    "        print(vZ)\n",
    "\n",
    "    wTime = wTime/(nSteps - 1) * (quadLength / vZ)\n",
    "    dt = wTime[1] - wTime[0]\n",
    "    period = 1.0 / freqHZ\n",
    "    if verbose:\n",
    "        print(period/dt)\n",
    "    \n",
    "    wPhi = wTime * omegaRad / 2.0\n",
    "    i = 0\n",
    "    stableBool = True\n",
    "    tUnstable = -1\n",
    "    for i in range(nSteps-1):\n",
    "        wX[i+1] = wX[i]+dt*wVx[i]\n",
    "        wY[i+1] = wY[i]+dt*wVy[i]\n",
    "        wZ[i+1] = wZ[i]+dt*vZ\n",
    "        \n",
    "        if((np.abs(wX[i+1])>r0) or (np.abs(wY[i+1])>r0)):\n",
    "#             print(wX[i+1], wY[i+1])\n",
    "            stableBool = False\n",
    "            break #break #is this what we want to do?\n",
    "            if(tUnstable == 0):\n",
    "                tUnstable = i\n",
    "        wVx[i+1] = wVx[i]+dt*(-2*C.elementary_charge*(U + V * np.cos(omegaRad * wTime[i])) * wX[i] / (ionMassKG*r0**2))\n",
    "        wVy[i+1] = wVy[i]+dt*(2*C.elementary_charge*(U + V * np.cos(omegaRad * wTime[i])) * wY[i] / (ionMassKG*r0**2))\n",
    "        \n",
    "    if(tUnstable != 0):\n",
    "        wX[tUnstable:nSteps-1] = np.nan\n",
    "        wY[tUnstable:nSteps-1] = np.nan\n",
    "\n",
    "    return wX, wY, wZ, wVx, wVy, wTime, stableBool\n"
   ]
  },
  {
   "cell_type": "code",
   "execution_count": 28,
   "metadata": {
    "collapsed": false
   },
   "outputs": [
    {
     "name": "stdout",
     "output_type": "stream",
     "text": [
      "4392.84265385\n",
      "8.81749189167\n",
      "True\n"
     ]
    }
   ],
   "source": [
    "trajPnts = 500\n",
    "wX, wY, wZ, wVx, wVy, wTime, stableBool = Calc_Ion_Traj_Quad(200,3,620,trajPnts, verbose = True)\n",
    "for vec in [wX,wY,wZ]:\n",
    "    vec*=1000.0#convert to mm\n",
    "print(stableBool)"
   ]
  },
  {
   "cell_type": "code",
   "execution_count": 29,
   "metadata": {
    "collapsed": false
   },
   "outputs": [
    {
     "data": {
      "text/plain": [
       "<matplotlib.legend.Legend at 0x272fd6b39b0>"
      ]
     },
     "execution_count": 29,
     "metadata": {},
     "output_type": "execute_result"
    },
    {
     "data": {
      "image/png": "[encoded data removed]",
      "text/plain": [
       "<Figure size 864x288 with 3 Axes>"
      ]
     },
     "metadata": {},
     "output_type": "display_data"
    }
   ],
   "source": [
    "pntList = []\n",
    "lineList = []\n",
    "\n",
    "ms = 8\n",
    "\n",
    "fig, axList = plt.subplots(ncols = 3, figsize = (12,4))\n",
    "ax0 = axList[0]\n",
    "ax1 = axList[1]\n",
    "ax2 = axList[-1]\n",
    "\n",
    "ax0.plot(wZ, wX, 'b', label = 'X-axis Trajectory')\n",
    "p0, = ax0.plot(wZ[0], wX[0], 'ro', ms = ms, mfc = 'white')\n",
    "pntList.append(p0)\n",
    "lineList.append([wZ, wX])\n",
    "ax0.set_ylim(-R0_m*1000, R0_m*1000)#constrain to radius of quads\n",
    "ax0.set_ylabel(\"Distance (mm)\", fontsize = 12)\n",
    "ax0.set_xlabel(\"Distance (mm)\", fontsize = 12)\n",
    "ax0.grid()\n",
    "ax0.legend()\n",
    "\n",
    "ax1.plot(wZ, wY, 'r', label = 'Y-axis Trajectory')\n",
    "p1, = ax1.plot(wZ[0], wY[0], 'ro', ms = ms, mfc = 'white')\n",
    "pntList.append(p1)\n",
    "lineList.append([wZ, wY])\n",
    "ax1.set_ylim(-R0_m*1000, R0_m*1000)#constrain to radius of quads\n",
    "ax1.set_xlabel(\"Distance (mm)\", fontsize = 12)\n",
    "ax1.grid()\n",
    "ax1.legend()\n",
    "\n",
    "ax2.plot(wX, wY, 'g', label = 'X-Y Trajectory')\n",
    "p2, = ax2.plot(wX[0], wY[0], 'ro', ms = ms, mfc = 'white')\n",
    "pntList.append(p2)\n",
    "lineList.append([wX, wY])\n",
    "ax2.grid()\n",
    "ax2.set_ylim(-R0_m*1000, R0_m*1000)#constrain to radius of quads\n",
    "ax2.set_xlim(-R0_m*1000, R0_m*1000)#constrain to radius of quads\n",
    "ax2.set_xlabel(\"Distance (mm)\", fontsize = 12)\n",
    "ax2.legend()"
   ]
  },
  {
   "cell_type": "code",
   "execution_count": 30,
   "metadata": {
    "collapsed": true
   },
   "outputs": [],
   "source": [
    "def run(it):\n",
    "#     print(it)\n",
    "    for i, pnt in enumerate(pntList):\n",
    "        x,y = lineList[i]\n",
    "        pnt.set_data(x[it], y[it])\n",
    "    return pntList"
   ]
  },
  {
   "cell_type": "code",
   "execution_count": 31,
   "metadata": {
    "collapsed": true
   },
   "outputs": [],
   "source": [
    "anim = animation.FuncAnimation(fig, run,\n",
    "                               frames=trajPnts, interval=10, \n",
    "                               blit=True)"
   ]
  },
  {
   "cell_type": "markdown",
   "metadata": {},
   "source": [
    "### The following call requires ffmpeg to run, however, the next call can work in cases where ffmpeg is not installed."
   ]
  },
  {
   "cell_type": "code",
   "execution_count": null,
   "metadata": {
    "collapsed": false
   },
   "outputs": [],
   "source": [
    "HTML(anim.to_html5_video())# will not work without the proper movie writer backend."
   ]
  },
  {
   "cell_type": "code",
   "execution_count": null,
   "metadata": {
    "collapsed": false
   },
   "outputs": [],
   "source": [
    "HTML(anim.to_jshtml()) #this call could take a couple of minutes"
   ]
  },
  {
   "cell_type": "code",
   "execution_count": null,
   "metadata": {
    "collapsed": true
   },
   "outputs": [],
   "source": [
    "saveBool = False\n",
    "if saveBool:\n",
    "    anim.save('quadSim.mp4')"
   ]
  },
  {
   "cell_type": "markdown",
   "metadata": {
    "collapsed": true
   },
   "source": [
    "### Generate the Countours for the Electric Fields"
   ]
  },
  {
   "cell_type": "code",
   "execution_count": null,
   "metadata": {
    "collapsed": true
   },
   "outputs": [],
   "source": [
    "def getPotential(x,y,numPnts,radius,U,V,freqHz,t):\n",
    "    localPotential = (((x-numPnts/2+0.5)/numPnts*2*radius)**2 - ((y-numPnts/2+0.5)/numPnts*2*radius)**2) * (U+V*np.cos(2 * np.pi * freqHz * t))/radius**2\n",
    "    return localPotential"
   ]
  },
  {
   "cell_type": "code",
   "execution_count": null,
   "metadata": {
    "collapsed": true
   },
   "outputs": [],
   "source": [
    "def getQuadField(U, V, t, radius = R0_m, freqHz = FREQ_Hz, numPnts = 100):\n",
    "    \n",
    "    potential = np.zeros((numPnts, numPnts))\n",
    "    for i,m in enumerate(range(numPnts)):\n",
    "        for j,n in enumerate(range(numPnts)):\n",
    "            potential[i][j] = getPotential(i,j,numPnts,radius,U,V,freqHz,t)\n",
    "            \n",
    "    return potential"
   ]
  },
  {
   "cell_type": "code",
   "execution_count": null,
   "metadata": {
    "collapsed": true
   },
   "outputs": [],
   "source": [
    "potential = getQuadField(33,610,200)"
   ]
  },
  {
   "cell_type": "code",
   "execution_count": null,
   "metadata": {
    "collapsed": false
   },
   "outputs": [],
   "source": [
    "fig, ax = plt.subplots(figsize = (12,8))\n",
    "pcMesh = plt.pcolormesh(potential, shading='gouraud', cmap=plt.cm.BuGn_r)\n",
    "con = plt.contour(potential, 12, colors = ['w'])\n",
    "ax.clabel(con, inline=1, fontsize=12, fmt = '%.1f')"
   ]
  },
  {
   "cell_type": "code",
   "execution_count": null,
   "metadata": {
    "collapsed": true
   },
   "outputs": [],
   "source": [
    "U_main = 33\n",
    "V_main = 610\n",
    "tVal = 200"
   ]
  },
  {
   "cell_type": "code",
   "execution_count": null,
   "metadata": {
    "collapsed": false
   },
   "outputs": [],
   "source": [
    "# https://stackoverflow.com/questions/49063430/matplotlib-how-to-animate-pcolormesh-with-large-data-set\n",
    "fig, ax = plt.subplots(figsize = (12,8))\n",
    "\n",
    "def animate(i):\n",
    "    ax.cla()\n",
    "    localPot = getQuadField(U_main, V_main, i)\n",
    "    pc = ax.pcolormesh(localPot, shading='gouraud', cmap=plt.cm.BuGn_r)\n",
    "    con = ax.contour(localPot, 12, colors = ['w'])\n",
    "    ax.clabel(con, inline=1, fontsize=12, fmt = '%.1f')\n",
    "    return pc,con,\n",
    "\n",
    "# ax.axis([-9,30,-9,30])\n",
    "im_ani = animation.FuncAnimation(fig, animate, frames=wTime, interval=1000, blit=False)"
   ]
  },
  {
   "cell_type": "code",
   "execution_count": null,
   "metadata": {
    "collapsed": false
   },
   "outputs": [],
   "source": [
    "HTML(im_ani.to_html5_video())#this call can take a while so relax, have a homebrew."
   ]
  },
  {
   "cell_type": "code",
   "execution_count": null,
   "metadata": {
    "collapsed": false
   },
   "outputs": [],
   "source": [
    "HTML(im_ani.to_jshtml()) #this call could take a couple of minutes"
   ]
  },
  {
   "cell_type": "code",
   "execution_count": null,
   "metadata": {
    "collapsed": true
   },
   "outputs": [],
   "source": []
  },
  {
   "cell_type": "code",
   "execution_count": null,
   "metadata": {
    "collapsed": true
   },
   "outputs": [],
   "source": []
  }
 ],
 "metadata": {
  "anaconda-cloud": {},
  "kernelspec": {
   "display_name": "Python [conda env:Anaconda3]",
   "language": "python",
   "name": "conda-env-Anaconda3-py"
  },
  "language_info": {
   "codemirror_mode": {
    "name": "ipython",
    "version": 3
   },
   "file_extension": ".py",
   "mimetype": "text/x-python",
   "name": "python",
   "nbconvert_exporter": "python",
   "pygments_lexer": "ipython3",
   "version": "3.5.2"
  },
  "varInspector": {
   "cols": {
    "lenName": 16,
    "lenType": 16,
    "lenVar": 40
   },
   "kernels_config": {
    "python": {
     "delete_cmd_postfix": "",
     "delete_cmd_prefix": "del ",
     "library": "var_list.py",
     "varRefreshCmd": "print(var_dic_list())"
    },
    "r": {
     "delete_cmd_postfix": ") ",
     "delete_cmd_prefix": "rm(",
     "library": "var_list.r",
     "varRefreshCmd": "cat(var_dic_list()) "
    }
   },
   "types_to_exclude": [
    "module",
    "function",
    "builtin_function_or_method",
    "instance",
    "_Feature"
   ],
   "window_display": false
  }
 },
 "nbformat": 4,
 "nbformat_minor": 2
}
