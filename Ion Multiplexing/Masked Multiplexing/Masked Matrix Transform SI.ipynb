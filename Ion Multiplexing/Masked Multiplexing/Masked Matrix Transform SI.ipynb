{
 "cells": [
  {
   "cell_type": "markdown",
   "metadata": {},
   "source": [
    "## Masked Matrix Transform\n"
   ]
  },
  {
   "cell_type": "markdown",
   "metadata": {},
   "source": [
    "Copyright 2020, Brian H. Clowers\n",
    "\n",
    "Permission is hereby granted, free of charge, to any person obtaining a copy of this software and associated documentation files (the \"Software\"), to deal in the Software without restriction, including without limitation the rights to use, copy, modify, merge, publish, distribute, sublicense, and/or sell copies of the Software, and to permit persons to whom the Software is furnished to do so, subject to the following conditions:\n",
    "\n",
    "The above copyright notice and this permission notice shall be included in all copies or substantial portions of the Software.\n",
    "\n",
    "THE SOFTWARE IS PROVIDED \"AS IS\", WITHOUT WARRANTY OF ANY KIND, EXPRESS OR IMPLIED, INCLUDING BUT NOT LIMITED TO THE WARRANTIES OF MERCHANTABILITY, FITNESS FOR A PARTICULAR PURPOSE AND NONINFRINGEMENT. IN NO EVENT SHALL THE AUTHORS OR COPYRIGHT HOLDERS BE LIABLE FOR ANY CLAIM, DAMAGES OR OTHER LIABILITY, WHETHER IN AN ACTION OF CONTRACT, TORT OR OTHERWISE, ARISING FROM, OUT OF OR IN CONNECTION WITH THE SOFTWARE OR THE USE OR OTHER DEALINGS IN THE SOFTWARE."
   ]
  },
  {
   "cell_type": "markdown",
   "metadata": {},
   "source": [
    "### Inline Plotting"
   ]
  },
  {
   "cell_type": "code",
   "execution_count": 1,
   "metadata": {
    "jupyter": {
     "outputs_hidden": false
    }
   },
   "outputs": [],
   "source": [
    "%matplotlib inline"
   ]
  },
  {
   "cell_type": "markdown",
   "metadata": {},
   "source": [
    "#### Library and Standard Imports"
   ]
  },
  {
   "cell_type": "code",
   "execution_count": 2,
   "metadata": {
    "jupyter": {
     "outputs_hidden": false
    }
   },
   "outputs": [],
   "source": [
    "import matplotlib.pyplot as plt\n",
    "import matplotlib.patches as patches\n",
    "import numpy as np\n",
    "from scipy import signal\n",
    "from numpy.fft import fft, ifft"
   ]
  },
  {
   "cell_type": "code",
   "execution_count": 3,
   "metadata": {
    "jupyter": {
     "outputs_hidden": false
    }
   },
   "outputs": [],
   "source": [
    "import sys, os, time"
   ]
  },
  {
   "cell_type": "markdown",
   "metadata": {},
   "source": [
    "## The following uses a 5-bit sequences as an example and higher bit orders are compatible with the same strategy."
   ]
  },
  {
   "cell_type": "markdown",
   "metadata": {},
   "source": [
    "### A 5-bit sequence is: '0 0 0 0 1 0 0 1 0 1 1 0 0 1 1 1 1 1 0 0 0 1 1 0 1 1 1 0 1 0 1'"
   ]
  },
  {
   "cell_type": "code",
   "execution_count": 4,
   "metadata": {
    "jupyter": {
     "outputs_hidden": false
    }
   },
   "outputs": [],
   "source": [
    "seqTxt = '0000100101100111110001101110101'\n",
    "seq = []\n",
    "for e in seqTxt:\n",
    "    seq.append(int(e))"
   ]
  },
  {
   "cell_type": "code",
   "execution_count": 5,
   "metadata": {
    "jupyter": {
     "outputs_hidden": false
    }
   },
   "outputs": [],
   "source": [
    "seq = np.array(seq, dtype = np.float)#convert sequence"
   ]
  },
  {
   "cell_type": "code",
   "execution_count": null,
   "metadata": {},
   "outputs": [],
   "source": []
  },
  {
   "cell_type": "markdown",
   "metadata": {},
   "source": [
    "### Create mask of the cyclic PRBS"
   ]
  },
  {
   "cell_type": "code",
   "execution_count": 6,
   "metadata": {
    "jupyter": {
     "outputs_hidden": false
    }
   },
   "outputs": [],
   "source": [
    "def createSeqMTX(useSeq):\n",
    "    '''\n",
    "    useSeq is the target sequence used for modulate (not oversampled)\n",
    "    '''\n",
    "    seqMTX = np.zeros([len(useSeq), len(useSeq)])\n",
    "    for i in range(len(useSeq)):\n",
    "        seqMTX[i,:] = np.roll(useSeq,i)\n",
    "    return seqMTX"
   ]
  },
  {
   "cell_type": "code",
   "execution_count": 7,
   "metadata": {
    "jupyter": {
     "outputs_hidden": false
    }
   },
   "outputs": [],
   "source": [
    "seqMTX = createSeqMTX(seq)"
   ]
  },
  {
   "cell_type": "markdown",
   "metadata": {},
   "source": [
    "## Plot Standard S-Matrix"
   ]
  },
  {
   "cell_type": "code",
   "execution_count": 8,
   "metadata": {
    "jupyter": {
     "outputs_hidden": false
    }
   },
   "outputs": [
    {
     "data": {
      "text/plain": [
       "Text(0.5, 1.0, '5-Bit S-Matrix')"
      ]
     },
     "execution_count": 8,
     "metadata": {},
     "output_type": "execute_result"
    },
    {
     "data": {
      "image/png": "[encoded data removed]",
      "text/plain": [
       "<Figure size 864x576 with 1 Axes>"
      ]
     },
     "metadata": {
      "needs_background": "light"
     },
     "output_type": "display_data"
    }
   ],
   "source": [
    "fig, ax = plt.subplots(nrows = 1, figsize = (12,8))\n",
    "\n",
    "useSeq = seq\n",
    "\n",
    "ax0 = ax\n",
    "cName = 'binary'\n",
    "cmap=plt.get_cmap(cName)\n",
    "\n",
    "dummyMtx = np.zeros_like(seqMTX)\n",
    "\n",
    "ax.imshow(seqMTX, interpolation='none', cmap = cmap, aspect = 1.0)#, extent = extent)\n",
    "ax.imshow(dummyMtx, interpolation='none', cmap = cmap, aspect = 1.0, alpha = 0.75)#, extent = extent)\n",
    "ax.set_xticks(np.arange(-.5, len(useSeq), 1), minor=True);\n",
    "ax.set_yticks(np.arange(-.5, len(useSeq), 1), minor=True);\n",
    "\n",
    "# Gridlines based on minor ticks\n",
    "ax.grid(which='minor', color='grey', linestyle='-', linewidth=2)\n",
    "ax.grid(False, which='major')\n",
    "ax.set_yticklabels([])\n",
    "ax.set_xticklabels([])\n",
    "\n",
    "# Create a Rectangle patch\n",
    "rect = patches.Rectangle((-0.5,-0.5),31,1,linewidth=1,edgecolor='r',facecolor='y', alpha = 0.45)\n",
    "\n",
    "# Add the patch to the Axes\n",
    "ax.add_patch(rect)\n",
    "\n",
    "\n",
    "ax.annotate(\"A.)\", (-2, -2), fontsize=\"22\", annotation_clip=False)\n",
    "\n",
    "plt.title(\"5-Bit S-Matrix\", fontname=\"Arial\", fontsize = 30)\n",
    "# plt.savefig(\"SMTX_5Bit.png\", bbox_inches='tight', pad_inches = 0, dpi = 300)"
   ]
  },
  {
   "cell_type": "markdown",
   "metadata": {},
   "source": [
    "### Masked Matrix Generation (Algorithm #1)\n",
    "~~~python\n",
    "randomSeed(42) #set random seed for reproducibility\n",
    "prbs #binary Simplex sequence\n",
    "maskWindow #user-defined mask length\n",
    "maskMTX #unpopulated matrix of zeros equivalent to the full S-matrix\n",
    "for i,row in enumerate(maskMTX):\n",
    "    #random mask value\n",
    "    maskVal = randInt #random integer\n",
    "    #random mask start point\n",
    "    maskStart = randInt\n",
    "    tempSeq = copy(prbs)\n",
    "    tempSeq[maskStart:maskStart+maskWindow] = maskVal\n",
    "    #fill mask matrix \n",
    "    maskMTX[i] = tempSeq\n",
    "~~~"
   ]
  },
  {
   "cell_type": "markdown",
   "metadata": {},
   "source": [
    "### Masked Matrix Generation"
   ]
  },
  {
   "cell_type": "code",
   "execution_count": 9,
   "metadata": {},
   "outputs": [],
   "source": [
    "rollMtx = seqMTX.copy() #generate a copy in memory\n",
    "maskMtx = np.zeros_like(seqMTX)+0.5"
   ]
  },
  {
   "cell_type": "code",
   "execution_count": 10,
   "metadata": {},
   "outputs": [],
   "source": [
    "sLen = 2**5-1 #Length of the PRBS\n",
    "win = 5 #Window to create the mask.  This is a variable and can be manipulated to suit.  A decent starting point is the order of the PRBS\n",
    "randBool = False #User choice to create a non-consecutive random value, NOT USED"
   ]
  },
  {
   "cell_type": "code",
   "execution_count": 11,
   "metadata": {},
   "outputs": [],
   "source": [
    "np.random.seed(42) #make random value predicable (HHGTTG)"
   ]
  },
  {
   "cell_type": "code",
   "execution_count": 12,
   "metadata": {},
   "outputs": [],
   "source": [
    "for i in range(maskMtx.shape[0]):\n",
    "    tempVec = maskMtx[0,:].copy()#first row which would be used for a standard Hadamard transform\n",
    "    randVal = np.random.rand() #random value to use and insert in the mask window\n",
    "    if i > 0:\n",
    "        if randBool:#use for the randomization of the mask\n",
    "            tempInd = np.random.randint(sLen, size = int(sLen/2))\n",
    "            tempVec[tempInd] = randVal\n",
    "        else:\n",
    "            indA = np.random.randint(sLen)\n",
    "            indB = (indA+win)%sLen\n",
    "            tempVec[indA:indB] = randVal\n",
    "        maskMtx[i,:] = tempVec\n",
    "    \n",
    "    rollMtx[i,:] = np.roll(rollMtx[i,:], -i)# roll so that each row is the same as row 0 but now contains the mask"
   ]
  },
  {
   "cell_type": "code",
   "execution_count": 13,
   "metadata": {
    "jupyter": {
     "outputs_hidden": false
    }
   },
   "outputs": [
    {
     "data": {
      "text/plain": [
       "Text(0.5, 1.0, '5-Bit Mask-Matrix')"
      ]
     },
     "execution_count": 13,
     "metadata": {},
     "output_type": "execute_result"
    },
    {
     "data": {
      "image/png": "[encoded data removed]",
      "text/plain": [
       "<Figure size 864x576 with 1 Axes>"
      ]
     },
     "metadata": {
      "needs_background": "light"
     },
     "output_type": "display_data"
    }
   ],
   "source": [
    "fig, ax = plt.subplots(nrows = 1, figsize = (12,8))\n",
    "\n",
    "useSeq = seq\n",
    "\n",
    "ax0 = ax\n",
    "\n",
    "\n",
    "cName = 'bwr'\n",
    "cmap=plt.get_cmap(cName)\n",
    "\n",
    "ax0.imshow(rollMtx, interpolation='none', cmap = 'binary', aspect = 1.0)#, extent = extent)\n",
    "ax0.imshow(maskMtx, interpolation='none', cmap = cmap, aspect = 1.0, alpha = 0.75)#, extent = extent)\n",
    "\n",
    "ax0.set_xticks(np.arange(-.5, len(useSeq), 1), minor=True);\n",
    "ax0.set_yticks(np.arange(-.5, len(useSeq), 1), minor=True);\n",
    "\n",
    "# Gridlines based on minor ticks\n",
    "ax0.grid(which='minor', color='grey', linestyle='-', linewidth=2)\n",
    "ax0.grid(False, which='major')\n",
    "ax0.set_yticklabels([])\n",
    "ax0.set_xticklabels([])\n",
    "\n",
    "# Create a Rectangle patch\n",
    "rect = patches.Rectangle((-0.5,-0.5),31,1,linewidth=1,edgecolor='r',facecolor='y', alpha = 0.45)\n",
    "\n",
    "# Add the patch to the Axes\n",
    "ax0.add_patch(rect)\n",
    "\n",
    "ax0.annotate(\"B.)\", (-2, -2), fontsize=\"22\", annotation_clip=False)\n",
    "\n",
    "plt.title(\"5-Bit Mask-Matrix\", fontname=\"Arial\",fontsize = 30)\n",
    "# plt.savefig(\"Masked_MTX_5Bit.png\", bbox_inches='tight', pad_inches = 0, dpi = 300)"
   ]
  },
  {
   "cell_type": "markdown",
   "metadata": {},
   "source": [
    "#### *Pick the file you want (use `ls` command)*"
   ]
  },
  {
   "cell_type": "markdown",
   "metadata": {},
   "source": [
    "#### Files distributed with this example:\n",
    "* Raw_622.csv\n",
    "* Raw_922.csv\n",
    "* Raw_1822.csv"
   ]
  },
  {
   "cell_type": "markdown",
   "metadata": {},
   "source": [
    "### These traces are the raw vectors extracted from the TOF file for select tune mix ions.  Each data point corresponds to approximately 0.165576 ms"
   ]
  },
  {
   "cell_type": "code",
   "execution_count": 14,
   "metadata": {
    "jupyter": {
     "outputs_hidden": false
    }
   },
   "outputs": [],
   "source": [
    "csvFiles = ['Raw_622.csv', 'Raw_922.csv', 'Raw_1822.csv']"
   ]
  },
  {
   "cell_type": "code",
   "execution_count": 15,
   "metadata": {},
   "outputs": [],
   "source": [
    "fileName = csvFiles[1] #622"
   ]
  },
  {
   "cell_type": "markdown",
   "metadata": {},
   "source": [
    "Load Target CSV"
   ]
  },
  {
   "cell_type": "code",
   "execution_count": 16,
   "metadata": {},
   "outputs": [],
   "source": [
    "data = np.loadtxt(fileName, delimiter = ',')\n",
    "x = data[:,0]\n",
    "y = data[:,1]"
   ]
  },
  {
   "cell_type": "code",
   "execution_count": 17,
   "metadata": {},
   "outputs": [
    {
     "data": {
      "text/plain": [
       "<matplotlib.legend.Legend at 0x25eb2d01160>"
      ]
     },
     "execution_count": 17,
     "metadata": {},
     "output_type": "execute_result"
    },
    {
     "data": {
      "image/png": "[encoded data removed]",
      "text/plain": [
       "<Figure size 720x288 with 1 Axes>"
      ]
     },
     "metadata": {
      "needs_background": "light"
     },
     "output_type": "display_data"
    }
   ],
   "source": [
    "fig, ax = plt.subplots(figsize = (10,4))\n",
    "plt.plot(x,y, label = '%s'%fileName)\n",
    "plt.legend()"
   ]
  },
  {
   "cell_type": "markdown",
   "metadata": {},
   "source": [
    "### Notice that there are some small, spiky counts.  The raw input should be smoothed before processing."
   ]
  },
  {
   "cell_type": "code",
   "execution_count": 18,
   "metadata": {
    "jupyter": {
     "outputs_hidden": false
    }
   },
   "outputs": [],
   "source": [
    "def normVector(npArray, retFactor = False):\n",
    "    '''\n",
    "    Normalize any input vector.\n",
    "    Drive maximum to 1.0\n",
    "    '''\n",
    "    if retFactor:\n",
    "        return npArray/npArray.max(), npArray.max()\n",
    "    else:\n",
    "        return npArray/npArray.max()"
   ]
  },
  {
   "cell_type": "markdown",
   "metadata": {},
   "source": [
    "#### Support Functions"
   ]
  },
  {
   "cell_type": "code",
   "execution_count": 19,
   "metadata": {
    "jupyter": {
     "outputs_hidden": false
    }
   },
   "outputs": [],
   "source": [
    "def expandSequence(seq, osFactor = 200, singlePulse = False, scaleFactor = 0.5):\n",
    "    '''\n",
    "    Expand a PRBS by a target over sampling factor (osFactor)\n",
    "    scaleFactor can be used to scale the matrix if needed.\n",
    "    '''\n",
    "    \n",
    "    seqLen = len(seq)\n",
    "    newSeq = np.zeros(osFactor*len(seq))\n",
    "    j = -1\n",
    "    maxVal = seq.max()*scaleFactor\n",
    "    minVal = seq.min()*scaleFactor\n",
    "    for i,v in enumerate(newSeq):# go through each element\n",
    "        if i%osFactor == 0:#reset count when the oversampling factor is reached\n",
    "            j+=1 #start counting upward\n",
    "            curVal = seq[j]\n",
    "\n",
    "            if singlePulse:\n",
    "                if curVal > maxVal:\n",
    "                    newSeq[i] = curVal\n",
    "                    curVal = 0\n",
    "                elif curVal < minVal:\n",
    "\n",
    "                    newSeq[i] = curVal\n",
    "                    curVal = 0\n",
    "                else:\n",
    "                    curVal = 0\n",
    "                \n",
    "            else:\n",
    "                newSeq[i] = curVal\n",
    "        else:\n",
    "            newSeq[i] = curVal\n",
    "        \n",
    "    return newSeq\n",
    "        \n",
    "    "
   ]
  },
  {
   "cell_type": "code",
   "execution_count": 20,
   "metadata": {
    "jupyter": {
     "outputs_hidden": false
    }
   },
   "outputs": [],
   "source": [
    "def periodic_corr(x, y):\n",
    "    \"\"\"Periodic correlation, implemented using the FFT.\n",
    "\n",
    "    x and y must be real sequences with the same length.\n",
    "    \"\"\"\n",
    "    return ifft(fft(x) * fft(y).conj()).real"
   ]
  },
  {
   "cell_type": "markdown",
   "metadata": {},
   "source": [
    "### Artifact Mitigation Transform (Algorithm #2)\n",
    "~~~python\n",
    "rawData #raw, untransformed data \n",
    "maskMTX #populated mask matrix\n",
    "transformedMTX #matrix of zeros to contain transform data\n",
    "for i,row in enumerate(maskMTX):\n",
    "    maskSeq = maskMTX[i]\n",
    "    tempTransform = HT(rawData, maskSeq)\n",
    "    transformedMTX[i] = copy(tempTransform)\n",
    "\n",
    "weightedVector #empty vector that will deweight transform artifacts\n",
    "for j,column in enumerate(transformedMTX):\n",
    "    weightedVector[j] = stdDev(maskMTX[:,j])#capture variation across transformed data\n",
    "\n",
    "nativeT = HT(rawData, prbs)\n",
    "endResult = weightedVector*nativeT                            \n",
    "~~~"
   ]
  },
  {
   "cell_type": "markdown",
   "metadata": {},
   "source": [
    "### The following contains multiple calls.  Arguably the masked matrix and its inverse need only be calculated once."
   ]
  },
  {
   "cell_type": "code",
   "execution_count": 21,
   "metadata": {
    "jupyter": {
     "outputs_hidden": false
    }
   },
   "outputs": [],
   "source": [
    "def createMaskedTransformMTX(intVec, invMtx, bitOrder = 5, osFactor = 158, filterType = 'W', maskType = 'R', maskWindow = 5, randBool = False):\n",
    "    '''\n",
    "    Accepts: \n",
    "        The intensity vector for transform (intVec)\n",
    "        Inverted matrix of the masked matrix (invMtx)\n",
    "        Bit order of the sequence under test (bitOrder)\n",
    "        Oversampling Factor (osFactor)\n",
    "        Mask Window (see Above, Algorithm #1)\n",
    "    \n",
    "    Returns the transfomred matrix. \n",
    "    \n",
    "    '''\n",
    "    sumDecon = np.zeros_like(intVec)\n",
    "    sLen = int(2**bitOrder - 1)#sequence length of the raw masks\n",
    "    colMod = 1#not used currently but left for posterity\n",
    "    sumMtx = np.zeros((len(intVec), invSeq.shape[0]*colMod))\n",
    "\n",
    "    if filterType == 'S':#Savitsky Golay Smoothing to minimize spikes from TOF data\n",
    "        yF = signal.savgol_filter(intVec, 27, 3)#These are hard coded and it may be good to optimize\n",
    "    if filterType == None:\n",
    "        yF = intVec\n",
    "\n",
    "        \n",
    "        \n",
    "    #see above for a longer descriptions    \n",
    "    win = maskWindow\n",
    "    np.random.seed(42)#done to make sure results are reproducible\n",
    "    for i in range(invSeq.shape[0]*colMod):\n",
    "        tempInv = invMtx[:,i%sLen]\n",
    "        if i > 0:\n",
    "            if randBool:#use for the randomization of the mask\n",
    "                tempInd = np.random.randint(sLen, size = int(sLen/2))\n",
    "                tempInv[tempInd] = 0\n",
    "            else:\n",
    "                indA = np.random.randint(sLen)\n",
    "                indB = (indA+win)%sLen\n",
    "                tempInv[indA:indB] = 0\n",
    "\n",
    "        invExp = expandSequence(tempInv, osFactor = osFactor, singlePulse = True)#expand sequence\n",
    "        tempCC = periodic_corr(yF, invExp) #perform cross correlation and deconvolution\n",
    "        sumDecon+=np.roll(normVector(tempCC), osFactor*i)\n",
    "        sumMtx[:,i%sLen]+= np.roll(normVector(tempCC), osFactor*i)\n",
    "\n",
    "    return sumMtx"
   ]
  },
  {
   "cell_type": "code",
   "execution_count": 22,
   "metadata": {},
   "outputs": [],
   "source": [
    "def demuxFromMatrix(dmxMTX, seq, cutOff = 0):\n",
    "    '''\n",
    "    Accepts the matrix that has been demultiplexed and contains the amplified transform errors. \n",
    "    It is possible to deweight by standard deviation or by noting the number of \n",
    "    sign changes (which is an indirect capture of spectral variability induced by the artifacts)\n",
    "    \n",
    "    Returns:\n",
    "        1) The raw transform zeroed at points where negative signs occur\n",
    "        2) The locations where the sign occurs\n",
    "    \n",
    "    '''\n",
    "    posVector = np.zeros_like(seq)\n",
    "    negLocs = np.zeros_like(seq)+1\n",
    "    mtxShape = dmxMTX.shape[0]\n",
    "    for i in range(mtxShape):\n",
    "        negCount = np.sum(dmxMTX[i,:]<cutOff, axis = 0)\n",
    "        if negCount == 0:\n",
    "            negLocs[i] = 0\n",
    "            posVector[i]+=dmxMTX[:,0][i]\n",
    "    return posVector, negLocs"
   ]
  },
  {
   "cell_type": "code",
   "execution_count": 23,
   "metadata": {
    "jupyter": {
     "outputs_hidden": false
    }
   },
   "outputs": [],
   "source": [
    "def plotDemux(dmxVector, xVec, rawVector, mzVal = '', saveBool = False):\n",
    "    fig, axList = plt.subplots(nrows= 1, ncols = 2, figsize = (12,6))\n",
    "    fs = 18\n",
    "    fig.suptitle(\"Extracted Ion Mobility Spectrum\\nm/z: %.2f\"%mzVal, fontsize = fs+2)\n",
    "    \n",
    "    newY = rawVector\n",
    "    posVector = dmxVector\n",
    "    ax = axList[0]\n",
    "    \n",
    "    offset = posVector.max()\n",
    "    ax.plot(xVec, newY, label = \"Raw Transform\")\n",
    "    ax.fill_between(xVec, 0, newY, alpha = 0.25)\n",
    "    ax.plot(xVec, posVector+offset, label = \"WSU DEMUX\")\n",
    "    ax.fill_between(xSeq, offset, posVector+offset, alpha = 0.25)\n",
    "\n",
    "    ax.set_xlabel(\"Drift Time (ms)\", fontsize = fs)\n",
    "    ax.set_ylabel(\"Normalized Intensity (a.u.)\", fontsize = fs)\n",
    "    ax.tick_params(axis = 'both', labelsize = fs-4)\n",
    "    ax.legend(fontsize = fs-8)\n",
    "\n",
    "\n",
    "    ax = axList[1]\n",
    "    ax.plot(xVec, newY, label = \"Raw Transform\")\n",
    "    ax.fill_between(xVec, 0, newY, alpha = 0.25)\n",
    "    ax.plot(xVec, posVector+offset, label = \"WSU DEMUX\")\n",
    "    ax.fill_between(xVec, offset, posVector+offset, alpha = 0.25)\n",
    "    \n",
    "    ax.set_xlabel(\"Drift Time (ms)\", fontsize = fs)\n",
    "    ax.set_ylabel(\"Normalized Intensity (a.u.)\", fontsize = fs)\n",
    "    ax.tick_params(axis = 'both', labelsize = fs-4)\n",
    "    maxInd = posVector.argmax()\n",
    "    scale = int(0.05*len(posVector))\n",
    "    startInd = maxInd-scale\n",
    "    if startInd < 0:\n",
    "        startInd = 0\n",
    "    endInd = maxInd+scale\n",
    "    if endInd > len(posVector):\n",
    "        endInd = len(posVector)\n",
    "\n",
    "    ax.set_xlim(xSeq[startInd], xSeq[endInd])\n",
    "    \n",
    "    \n",
    "    fig.subplots_adjust(wspace=.25)\n",
    "    \n",
    "    if saveBool:\n",
    "        plt.savefig(\"DEMUX_ZOOM_%d\"%mz)"
   ]
  },
  {
   "cell_type": "markdown",
   "metadata": {},
   "source": [
    "____"
   ]
  },
  {
   "cell_type": "markdown",
   "metadata": {},
   "source": [
    "## Condensed Worflow"
   ]
  },
  {
   "cell_type": "code",
   "execution_count": null,
   "metadata": {},
   "outputs": [],
   "source": []
  },
  {
   "cell_type": "code",
   "execution_count": 24,
   "metadata": {
    "jupyter": {
     "outputs_hidden": false
    }
   },
   "outputs": [],
   "source": [
    "csvFiles = ['Raw_622.csv', 'Raw_922.csv', 'Raw_1822.csv']"
   ]
  },
  {
   "cell_type": "code",
   "execution_count": 25,
   "metadata": {},
   "outputs": [],
   "source": [
    "fileName = csvFiles[0] #622"
   ]
  },
  {
   "cell_type": "markdown",
   "metadata": {},
   "source": [
    "Load Target CSV"
   ]
  },
  {
   "cell_type": "code",
   "execution_count": 26,
   "metadata": {},
   "outputs": [],
   "source": [
    "data = np.loadtxt(fileName, delimiter = ',')\n",
    "x = data[:,0]\n",
    "y = data[:,1]"
   ]
  },
  {
   "cell_type": "code",
   "execution_count": 27,
   "metadata": {
    "jupyter": {
     "outputs_hidden": false
    }
   },
   "outputs": [],
   "source": [
    "seqTxt = '0000100101100111110001101110101'\n",
    "seq = []\n",
    "for e in seqTxt:\n",
    "    seq.append(int(e))"
   ]
  },
  {
   "cell_type": "code",
   "execution_count": 28,
   "metadata": {
    "jupyter": {
     "outputs_hidden": false
    }
   },
   "outputs": [],
   "source": [
    "seq = np.array(seq, dtype = np.float)#convert sequence"
   ]
  },
  {
   "cell_type": "code",
   "execution_count": 29,
   "metadata": {
    "jupyter": {
     "outputs_hidden": false
    }
   },
   "outputs": [],
   "source": [
    "mtx = createSeqMTX(seq)"
   ]
  },
  {
   "cell_type": "code",
   "execution_count": 30,
   "metadata": {
    "jupyter": {
     "outputs_hidden": false
    }
   },
   "outputs": [],
   "source": [
    "invprs = np.linalg.inv(mtx)#create inverse of the matrix"
   ]
  },
  {
   "cell_type": "code",
   "execution_count": 31,
   "metadata": {
    "jupyter": {
     "outputs_hidden": false
    }
   },
   "outputs": [],
   "source": [
    "invSeq = invprs[:,0] #grab the first row"
   ]
  },
  {
   "cell_type": "code",
   "execution_count": 32,
   "metadata": {
    "jupyter": {
     "outputs_hidden": false
    }
   },
   "outputs": [],
   "source": [
    "mtxUS = createSeqMTX(seq)#unscaled MTX\n",
    "invMtxUS = np.linalg.inv(mtxUS)\n",
    "invSeqUS = invMtxUS[:,0]"
   ]
  },
  {
   "cell_type": "code",
   "execution_count": 33,
   "metadata": {
    "jupyter": {
     "outputs_hidden": false
    }
   },
   "outputs": [
    {
     "name": "stdout",
     "output_type": "stream",
     "text": [
      "Raw_622.csv\n"
     ]
    },
    {
     "data": {
      "text/plain": [
       "<matplotlib.legend.Legend at 0x25eb2e816d0>"
      ]
     },
     "execution_count": 33,
     "metadata": {},
     "output_type": "execute_result"
    },
    {
     "data": {
      "image/png": "[encoded data removed]",
      "text/plain": [
       "<Figure size 576x216 with 1 Axes>"
      ]
     },
     "metadata": {
      "needs_background": "light"
     },
     "output_type": "display_data"
    }
   ],
   "source": [
    "fig = plt.figure(figsize = (8,3))\n",
    "print(fileName)\n",
    "#smoothing of signal\n",
    "ySmth = signal.savgol_filter(y, 5, 3)\n",
    "plt.plot(x,y, alpha = 0.25, label = \"%s\"%fileName)\n",
    "plt.plot(x,ySmth)\n",
    "plt.legend()"
   ]
  },
  {
   "cell_type": "code",
   "execution_count": 59,
   "metadata": {
    "jupyter": {
     "outputs_hidden": false
    }
   },
   "outputs": [],
   "source": [
    "osFactor = 200\n",
    "sumMtx = createMaskedTransformMTX(normVector(y), invMtxUS, bitOrder = 5, osFactor = osFactor, filterType = 'S', maskWindow = 5)"
   ]
  },
  {
   "cell_type": "code",
   "execution_count": 60,
   "metadata": {
    "jupyter": {
     "outputs_hidden": false
    }
   },
   "outputs": [],
   "source": [
    "pSeq = expandSequence(seq, osFactor = osFactor)"
   ]
  },
  {
   "cell_type": "code",
   "execution_count": 61,
   "metadata": {},
   "outputs": [],
   "source": [
    "timeSpacing = 0.165576 #see above"
   ]
  },
  {
   "cell_type": "code",
   "execution_count": 62,
   "metadata": {
    "jupyter": {
     "outputs_hidden": false
    }
   },
   "outputs": [],
   "source": [
    "xSeq = np.arange(len(pSeq))*timeSpacing"
   ]
  },
  {
   "cell_type": "code",
   "execution_count": 63,
   "metadata": {
    "jupyter": {
     "outputs_hidden": false
    }
   },
   "outputs": [],
   "source": [
    "dmxVec, negLocs = demuxFromMatrix(sumMtx, xSeq, 0)"
   ]
  },
  {
   "cell_type": "code",
   "execution_count": 64,
   "metadata": {
    "jupyter": {
     "outputs_hidden": false
    }
   },
   "outputs": [],
   "source": [
    "mzVal = fileName.split('_')[-1]\n",
    "mzVal = int(mzVal.split('.csv')[0])"
   ]
  },
  {
   "cell_type": "markdown",
   "metadata": {},
   "source": [
    "## Use dmxVec if you want to see the result where large degrees of variation in the demultiplexed spectra are zeroed (i.e. the quick and an less than elegant solution) (Not too bad actually). \n",
    "## Use the deweighted version for comparison. The manuscript uses the deweighting version as it preserves peak shape for ion populations displaying larger tails (i.e. larger m/z ions)."
   ]
  },
  {
   "cell_type": "code",
   "execution_count": 65,
   "metadata": {
    "jupyter": {
     "outputs_hidden": false
    }
   },
   "outputs": [
    {
     "data": {
      "image/png": "[encoded data removed]",
      "text/plain": [
       "<Figure size 864x432 with 2 Axes>"
      ]
     },
     "metadata": {
      "needs_background": "light"
     },
     "output_type": "display_data"
    }
   ],
   "source": [
    "rawVector = sumMtx[:,0]\n",
    "plotDemux(dmxVec, xSeq, rawVector, mzVal = mzVal)"
   ]
  },
  {
   "cell_type": "markdown",
   "metadata": {},
   "source": [
    "### The following import is needed if you want to intelligently deweight rather than drive to 0."
   ]
  },
  {
   "cell_type": "code",
   "execution_count": 41,
   "metadata": {},
   "outputs": [],
   "source": [
    "from astropy.convolution import Gaussian1DKernel, convolve"
   ]
  },
  {
   "cell_type": "code",
   "execution_count": 42,
   "metadata": {},
   "outputs": [],
   "source": [
    "gauss = Gaussian1DKernel(stddev=20)#Setup convolution kernel for deweighting spikes/transform artifacts"
   ]
  },
  {
   "cell_type": "code",
   "execution_count": 43,
   "metadata": {},
   "outputs": [],
   "source": [
    "locG = np.convolve(1-negLocs,gauss.array, 'same') #local gaussian to deweight areas of high variability"
   ]
  },
  {
   "cell_type": "code",
   "execution_count": 44,
   "metadata": {},
   "outputs": [
    {
     "data": {
      "image/png": "[encoded data removed]",
      "text/plain": [
       "<Figure size 864x432 with 2 Axes>"
      ]
     },
     "metadata": {
      "needs_background": "light"
     },
     "output_type": "display_data"
    }
   ],
   "source": [
    "fixedVec = normVector(rawVector*locG)\n",
    "plotDemux(fixedVec, xSeq, rawVector, mzVal = mzVal, saveBool = False)"
   ]
  },
  {
   "cell_type": "code",
   "execution_count": null,
   "metadata": {},
   "outputs": [],
   "source": []
  },
  {
   "cell_type": "code",
   "execution_count": null,
   "metadata": {},
   "outputs": [],
   "source": []
  }
 ],
 "metadata": {
  "anaconda-cloud": {},
  "kernelspec": {
   "display_name": "Python 3",
   "language": "python",
   "name": "python3"
  },
  "language_info": {
   "codemirror_mode": {
    "name": "ipython",
    "version": 3
   },
   "file_extension": ".py",
   "mimetype": "text/x-python",
   "name": "python",
   "nbconvert_exporter": "python",
   "pygments_lexer": "ipython3",
   "version": "3.8.3"
  },
  "varInspector": {
   "cols": {
    "lenName": 16,
    "lenType": 16,
    "lenVar": 40
   },
   "kernels_config": {
    "python": {
     "delete_cmd_postfix": "",
     "delete_cmd_prefix": "del ",
     "library": "var_list.py",
     "varRefreshCmd": "print(var_dic_list())"
    },
    "r": {
     "delete_cmd_postfix": ") ",
     "delete_cmd_prefix": "rm(",
     "library": "var_list.r",
     "varRefreshCmd": "cat(var_dic_list()) "
    }
   },
   "types_to_exclude": [
    "module",
    "function",
    "builtin_function_or_method",
    "instance",
    "_Feature"
   ],
   "window_display": false
  }
 },
 "nbformat": 4,
 "nbformat_minor": 4
}
